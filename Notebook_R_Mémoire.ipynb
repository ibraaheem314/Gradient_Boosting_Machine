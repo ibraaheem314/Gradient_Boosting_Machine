{
 "cells": [
  {
   "cell_type": "markdown",
   "id": "d29444d1-d5a0-4d62-bb46-c2aa8206491d",
   "metadata": {},
   "source": [
    "# Première partie : exemples pour illustrer notre mémoire"
   ]
  },
  {
   "cell_type": "code",
   "execution_count": 1,
   "id": "f4239b2f-30e6-449d-8a57-4ecd827d3e71",
   "metadata": {},
   "outputs": [
    {
     "name": "stderr",
     "output_type": "stream",
     "text": [
      "Warning message:\n",
      "\"package 'quantreg' was built under R version 4.3.3\"\n",
      "Loading required package: SparseM\n",
      "\n",
      "Warning message:\n",
      "\"package 'SparseM' was built under R version 4.3.3\"\n",
      "Warning message in .recacheSubclasses(def@className, def, env):\n",
      "\"undefined subclass \"ndiMatrix\" of class \"replValueSp\"; definition not updated\"\n",
      "Warning message:\n",
      "\"package 'robustbase' was built under R version 4.3.3\"\n",
      "Warning message:\n",
      "\"package 'ggplot2' was built under R version 4.3.3\"\n",
      "Warning message:\n",
      "\"package 'gbm' was built under R version 4.3.3\"\n",
      "Loaded gbm 2.2.2\n",
      "\n",
      "This version of gbm is no longer under development. Consider transitioning to gbm3, https://github.com/gbm-developers/gbm3\n",
      "\n"
     ]
    }
   ],
   "source": [
    "# Charger les packages nécessaires\n",
    "library(splines)\n",
    "library(quantreg)\n",
    "library(robustbase)\n",
    "library(ggplot2)\n",
    "library(gbm)\n",
    "library(MASS)"
   ]
  },
  {
   "cell_type": "markdown",
   "id": "73c6d606-f51f-44d7-9cf8-d1962551df8e",
   "metadata": {},
   "source": [
    "### Illustration pour un exemple de régression : Pertes L2, L1 et Huber"
   ]
  },
  {
   "cell_type": "markdown",
   "id": "27b7ed28-c554-4b28-90ae-a0f650db2ea2",
   "metadata": {},
   "source": [
    "#### Les fonctions de pertes"
   ]
  },
  {
   "cell_type": "code",
   "execution_count": 2,
   "id": "b361eb67-522f-4454-963e-4451bf57a12c",
   "metadata": {},
   "outputs": [],
   "source": [
    "# Fonction de perte L2\n",
    "L2_loss <- function(y, f) {\n",
    "  0.5 * (y - f)^2\n",
    "}\n",
    "\n",
    "# Fonction de perte L1\n",
    "L1_loss <- function(y, f) {\n",
    "  abs(y - f)\n",
    "}\n",
    "\n",
    "# Fonction de perte Huber\n",
    "Huber_loss <- function(y, f, delta) {\n",
    "  ifelse(abs(y - f) <= delta, 0.5 * (y - f)^2, delta * (abs(y - f) - 0.5 * delta))\n",
    "}\n",
    "\n",
    "# Fonction quantile\n",
    "Quantile_loss <- function(y, f, alpha) {\n",
    "  ifelse(y - f <= 0, (1 - alpha) * abs(y - f), alpha * abs(y - f))\n",
    "}\n"
   ]
  },
  {
   "cell_type": "code",
   "execution_count": 3,
   "id": "196c12a9-7c10-4308-bab5-08d55d9e9a26",
   "metadata": {},
   "outputs": [],
   "source": [
    "# Générons les valeurs de y - f pour les graphiques\n",
    "y_f <- seq(-3, 3, length.out = 100)"
   ]
  },
  {
   "cell_type": "markdown",
   "id": "8d60ed21-9c16-491e-8bdf-8b6e1d2673ef",
   "metadata": {},
   "source": [
    "#### Notre jeu de données généré"
   ]
  },
  {
   "cell_type": "code",
   "execution_count": 4,
   "id": "1a585a67-ea7f-43dd-ba0b-190c31041bd7",
   "metadata": {},
   "outputs": [],
   "source": [
    "# Fixons la graine pour la reproductibilité\n",
    "set.seed(1234)\n",
    "\n",
    "# Génération du jeu de données\n",
    "n <- 100\n",
    "X_train <- sort(5 * runif(n)) # n variables aléatoires dans [0;5]\n",
    "y_train <- sin(X_train)**2 +  rnorm(100, mean = 0, sd = 0.1)\n",
    "y_train[seq(1, n, by = 5)] <- y_train[seq(1, n, by = 5)] + 1 * (0.5 - runif(n / 5))\n",
    "\n",
    "X_test <- seq(0, 5, by = 1e-2)\n",
    "y_test <- sin(X_test)\n",
    "\n",
    "# Convertisson en data frame pour le modèle gbm\n",
    "Xtrain_data <- data.frame(X_train, y_train)\n",
    "Xtest_data <- data.frame(X_test)"
   ]
  },
  {
   "cell_type": "markdown",
   "id": "9b2cf4e4-fe4a-4a8a-8e35-a9459fd877b8",
   "metadata": {},
   "source": [
    "#### Construction de nos modèles"
   ]
  },
  {
   "cell_type": "code",
   "execution_count": 5,
   "id": "d966d588-8c96-4764-bdee-d99562541f45",
   "metadata": {},
   "outputs": [],
   "source": [
    "# Modèle GBM avec perte L2 (Least-Square)\n",
    "set.seed(1234)\n",
    "model_L2 <- gbm(y_train ~ X_train,\n",
    "                data = Xtrain_data,\n",
    "                distribution = \"gaussian\",  # L2 Loss\n",
    "                n.trees = 100,\n",
    "                interaction.depth = 3,\n",
    "                shrinkage = 0.1,\n",
    "                cv.folds = 5,\n",
    "                n.minobsinnode = 10,\n",
    "                verbose = FALSE)\n",
    "\n",
    "# Prédictions\n",
    "y_pred_L2 <- predict(model_L2, data.frame(X_train = X_test), n.trees = 100)\n"
   ]
  },
  {
   "cell_type": "code",
   "execution_count": 6,
   "id": "e09e16c1-af7e-4d15-b8cf-0b8ccc281ea7",
   "metadata": {},
   "outputs": [],
   "source": [
    "# Modèle GBM avec perte L1 (Lead Absolute Deviation)\n",
    "set.seed(1234)\n",
    "model_L1 <- gbm(y_train ~ X_train,\n",
    "                data = Xtrain_data,\n",
    "                distribution = \"laplace\",  # L1 Loss\n",
    "                n.trees = 100,\n",
    "                interaction.depth = 3,\n",
    "                shrinkage = 0.1,\n",
    "                cv.folds = 5,\n",
    "                n.minobsinnode = 10,\n",
    "                verbose = FALSE)\n",
    "\n",
    "# Prédictions\n",
    "y_pred_L1 <- predict(model_L1, data.frame(X_train = X_test), n.trees = 100)\n"
   ]
  },
  {
   "cell_type": "code",
   "execution_count": 7,
   "id": "8ef76762-3ee5-4c10-acf9-0eac75ef6d59",
   "metadata": {},
   "outputs": [
    {
     "name": "stderr",
     "output_type": "stream",
     "text": [
      "Warning message:\n",
      "\"package 'xgboost' was built under R version 4.3.3\"\n"
     ]
    }
   ],
   "source": [
    "library(xgboost)"
   ]
  },
  {
   "cell_type": "code",
   "execution_count": 8,
   "id": "6b433f83-6940-4022-a5ef-80ad7a7b26d0",
   "metadata": {},
   "outputs": [],
   "source": [
    "# Modèle avec perte Huber (Huber M-Regression)\n",
    "set.seed(1234)\n",
    "# Convert data to matrix for xgboost\n",
    "X_train_matrix <- as.matrix(X_train)\n",
    "y_train_vector <- as.numeric(y_train)\n",
    "X_test_matrix <- as.matrix(X_test)\n",
    "\n",
    "prop <- 0.8\n",
    "\n",
    "model_Huber <- xgboost(\n",
    "    data = X_train_matrix, \n",
    "    label = y_train_vector, \n",
    "    objective = \"reg:pseudohubererror\",\n",
    "    max_depth = 3,\n",
    "    nrounds = 100,\n",
    "    subsample = prop,\n",
    "    verbose = 0\n",
    "  )\n",
    "\n",
    "# Prédictions\n",
    "y_pred_Huber <- predict(model_Huber, X_test_matrix)\n"
   ]
  },
  {
   "cell_type": "code",
   "execution_count": 9,
   "id": "370bbd7c-13e3-4b7b-a556-85e5956c49dc",
   "metadata": {},
   "outputs": [
    {
     "name": "stderr",
     "output_type": "stream",
     "text": [
      "Installing package into 'C:/Users/ibrah/AppData/Local/R/win-library/4.3'\n",
      "(as 'lib' is unspecified)\n",
      "\n"
     ]
    },
    {
     "name": "stdout",
     "output_type": "stream",
     "text": [
      "package 'rpart' successfully unpacked and MD5 sums checked\n"
     ]
    },
    {
     "name": "stderr",
     "output_type": "stream",
     "text": [
      "Warning message:\n",
      "\"cannot remove prior installation of package 'rpart'\"\n",
      "Warning message in file.copy(savedcopy, lib, recursive = TRUE):\n",
      "\"problem copying C:\\Users\\ibrah\\AppData\\Local\\R\\win-library\\4.3\\00LOCK\\rpart\\libs\\x64\\rpart.dll to C:\\Users\\ibrah\\AppData\\Local\\R\\win-library\\4.3\\rpart\\libs\\x64\\rpart.dll: Permission denied\"\n",
      "Warning message:\n",
      "\"restored 'rpart'\"\n"
     ]
    },
    {
     "name": "stdout",
     "output_type": "stream",
     "text": [
      "\n",
      "The downloaded binary packages are in\n",
      "\tC:\\Users\\ibrah\\AppData\\Local\\Temp\\RtmpKACOjE\\downloaded_packages\n"
     ]
    },
    {
     "name": "stderr",
     "output_type": "stream",
     "text": [
      "Installing package into 'C:/Users/ibrah/AppData/Local/R/win-library/4.3'\n",
      "(as 'lib' is unspecified)\n",
      "\n"
     ]
    },
    {
     "name": "stdout",
     "output_type": "stream",
     "text": [
      "package 'rpart.plot' successfully unpacked and MD5 sums checked\n",
      "\n",
      "The downloaded binary packages are in\n",
      "\tC:\\Users\\ibrah\\AppData\\Local\\Temp\\RtmpKACOjE\\downloaded_packages\n"
     ]
    },
    {
     "name": "stderr",
     "output_type": "stream",
     "text": [
      "Warning message:\n",
      "\"package 'rpart.plot' was built under R version 4.3.3\"\n",
      "Loading required package: rpart\n",
      "\n",
      "Warning message:\n",
      "\"package 'rpart' was built under R version 4.3.3\"\n"
     ]
    }
   ],
   "source": [
    "# Installation de packages et chargement des librairies\n",
    "install.packages(\"rpart\")\n",
    "install.packages(\"rpart.plot\")\n",
    "library(rpart.plot)\n",
    "library(rpart)"
   ]
  },
  {
   "cell_type": "code",
   "execution_count": 10,
   "id": "fde39d4b-f22c-4372-b0aa-f13ceada89c8",
   "metadata": {},
   "outputs": [
    {
     "data": {
      "image/png": "[encoded data removed]",
      "text/plain": [
       "Plot with title \"Arbre de décision sur les données d'entraînement\""
      ]
     },
     "metadata": {
      "image/png": {
       "height": 420,
       "width": 420
      }
     },
     "output_type": "display_data"
    }
   ],
   "source": [
    "#png(\"arbres_décision.png\", width = 2000, height = 1500, res = 200)  # Taille et résolution pour la qualité de l'image\n",
    "\n",
    "# Entraînement de notre arbre de décision\n",
    "tree_model <- rpart(y_train ~ X_train, data = Xtrain_data, method = \"anova\")\n",
    "\n",
    "# Visualisation de l'arbre de décision\n",
    "rpart.plot(tree_model, type = 3, extra = 101, main = \"Arbre de décision sur les données d'entraînement\")\n",
    "\n",
    "#dev.off()"
   ]
  },
  {
   "cell_type": "markdown",
   "id": "6e6e979d-e8d4-4f88-9214-fb94d5d49be1",
   "metadata": {},
   "source": [
    "Ci-dessus on a l'arbre de décision utilisé pour entrainer pour entrainer le modèle."
   ]
  },
  {
   "cell_type": "code",
   "execution_count": 11,
   "id": "9074ef59-a41c-4813-ab0b-6c9fd018aba4",
   "metadata": {},
   "outputs": [
    {
     "data": {
      "image/png": "[encoded data removed]",
      "text/plain": [
       "Plot with title \"Perte quantile\""
      ]
     },
     "metadata": {
      "image/png": {
       "height": 420,
       "width": 420
      }
     },
     "output_type": "display_data"
    },
    {
     "data": {
      "image/png": "[encoded data removed]",
      "text/plain": [
       "Plot with title \"GBM avec les 3 pertes\""
      ]
     },
     "metadata": {
      "image/png": {
       "height": 420,
       "width": 420
      }
     },
     "output_type": "display_data"
    }
   ],
   "source": [
    "#png(\"graphes_FonctionPerte.png\", width = 2000, height = 1000, res = 200)  # Taille et résolution pour la qualité\n",
    "\n",
    "# Configuration de la grille pour nos graphiques\n",
    "par(mfrow = c(2, 2), mar = c(4, 4, 2, 1) + 0.1)  # Ajuster les marges pour plus d'espace\n",
    "\n",
    "# Tracer les fonctions de perte\n",
    "plot(y_f, L2_loss(y_f, 0), type = \"l\", ylab = \"loss\", xlab = \"y - f\", main = \"Perte L2\") # Perte L2\n",
    "\n",
    "plot(y_f, L1_loss(y_f, 0), type = \"l\", ylab = \"loss\", xlab = \"y - f\", main = \"Perte L1\") # Perte L1\n",
    "\n",
    "plot(y_f, Huber_loss(y_f, 0, delta = 1), type = \"l\", ylab = \"loss\", xlab = \"y - f\", main = \"Perte Huber\") # Perte Huber pour différents deltas\n",
    "lines(y_f, Huber_loss(y_f, 0, delta = 0.5), lty = 2)\n",
    "lines(y_f, Huber_loss(y_f, 0, delta = 0.25), lty = 3)\n",
    "legend(\"topright\", legend = c(\"δ = 1\", \"δ = 0.5\", \"δ = 0.25\"), lty = 1:3)\n",
    "\n",
    "plot(y_f, Quantile_loss(y_f, 0, alpha = 0.5), type = \"l\", ylab = \"loss\", xlab = \"y - f\", main = \"Perte quantile\") # Perte Quantile pour différents alphas\n",
    "lines(y_f, Quantile_loss(y_f, 0, alpha = 0.75), lty = 2)\n",
    "lines(y_f, Quantile_loss(y_f, 0, alpha = 0.05), lty = 3)\n",
    "legend(\"topright\", legend = c(\"α = 0.5\", \"α = 0.75\", \"α = 0.05\"), lty = 1:3)\n",
    "\n",
    "# Graphe des prédictions L2\n",
    "plot(X_train, y_train, col = \"black\", pch = 16, main = \"GBM avec perte L2\",\n",
    "     xlab = \"X\", ylab = \"y\")\n",
    "lines(X_test, y_pred_L2, col = \"blue\", lwd = 2, lty = 1)     # Prédictions avec L2\n",
    "\n",
    "# Graphe des prédictions L1\n",
    "plot(X_train, y_train, col = \"black\", pch = 16, main = \"GBM avec perte L1\",\n",
    "     xlab = \"X\", ylab = \"y\")\n",
    "lines(X_test, y_pred_L1, col = \"red\", lwd = 2, lty = 1)      # Prédictions avec L1\n",
    "\n",
    "# Graphe des prédictions Huber\n",
    "plot(X_train, y_train, col = \"black\", pch = 16, main = \"GBM avec perte Huber\",\n",
    "     xlab = \"X\", ylab = \"y\")\n",
    "lines(X_test, y_pred_Huber, col = \"green\", lwd = 2, lty = 1) # Prédictions avec Huber\n",
    "\n",
    "# Graphe des prédictions des 3 Fonctions de perte\n",
    "plot(X_train, y_train, col = \"black\", pch = 16, main = \"GBM avec les 3 pertes\",\n",
    "     xlab = \"X\", ylab = \"y\")\n",
    "lines(X_test, y_pred_Huber, col = \"green\", lwd = 2, lty = 3) # Prédictions avec Huber\n",
    "lines(X_test, y_pred_L1, col = \"red\", lwd = 2, lty = 2)      # Prédictions avec L1\n",
    "lines(X_test, y_pred_L2, col = \"blue\", lwd = 2, lty = 1)     # Prédictions avec L2\n",
    "\n",
    "legend(x = \"bottomright\", legend = c(\"L2 Loss\", \"L1 Loss\", \"Huber Loss\"),\n",
    "       col = c(\"blue\", \"red\", \"green\"), lty = c(1, 2, 3), lwd = 2,\n",
    "       box.lwd = 0.3, cex = 0.6)"
   ]
  },
  {
   "cell_type": "code",
   "execution_count": 12,
   "id": "5195313d-3cc5-4c7c-a41e-a93ac94ff484",
   "metadata": {},
   "outputs": [
    {
     "name": "stderr",
     "output_type": "stream",
     "text": [
      "Installing package into 'C:/Users/ibrah/AppData/Local/R/win-library/4.3'\n",
      "(as 'lib' is unspecified)\n",
      "\n"
     ]
    },
    {
     "name": "stdout",
     "output_type": "stream",
     "text": [
      "package 'remotes' successfully unpacked and MD5 sums checked\n",
      "\n",
      "The downloaded binary packages are in\n",
      "\tC:\\Users\\ibrah\\AppData\\Local\\Temp\\RtmpKACOjE\\downloaded_packages\n"
     ]
    },
    {
     "name": "stderr",
     "output_type": "stream",
     "text": [
      "Skipping install of 'gbm3' from a github remote, the SHA1 (e12ab2c7) has not changed since last install.\n",
      "  Use `force = TRUE` to force installation\n",
      "\n"
     ]
    }
   ],
   "source": [
    "install.packages(\"remotes\")\n",
    "\n",
    "remotes::install_github(\"gbm-developers/gbm3\")"
   ]
  },
  {
   "cell_type": "markdown",
   "id": "2cf6728c-ef48-4c50-a328-61d046cd9d81",
   "metadata": {},
   "source": [
    "### Illustration pour un exemple de classification : Pertes Bernoulli et Adaboost"
   ]
  },
  {
   "cell_type": "markdown",
   "id": "18d59572-d62e-41b7-9c0a-6b19d1bea7ec",
   "metadata": {},
   "source": [
    "#### Fonctions de perte"
   ]
  },
  {
   "cell_type": "code",
   "execution_count": 13,
   "id": "54974a4b-51a9-41dd-b809-e5834d1b6e01",
   "metadata": {},
   "outputs": [],
   "source": [
    "# Fonction de perte Bernoulli\n",
    "bernoulli_loss <- function(y, f) {\n",
    "  log(1 + exp(-y * f))\n",
    "}\n",
    "\n",
    "# Fonction de perte Adaboost\n",
    "adaboost_loss <- function(y, f) {\n",
    "  exp(-y * f)\n",
    "}"
   ]
  },
  {
   "cell_type": "markdown",
   "id": "45c2c750-d216-4391-bf23-220e82278195",
   "metadata": {},
   "source": [
    "#### Notre jeu de données"
   ]
  },
  {
   "cell_type": "code",
   "execution_count": 14,
   "id": "bd20ec36-c922-4273-9caf-afc921d736a8",
   "metadata": {},
   "outputs": [],
   "source": [
    "set.seed(123)\n",
    "\n",
    "# Générons des données pour deux classes\n",
    "n <- 200\n",
    "x1 <- matrix(rnorm(n * 2), ncol = 2) + matrix(c(1, 1), nrow = n, ncol = 2, byrow = TRUE) # Classe \"0\" par exemple\n",
    "x2 <- matrix(rnorm(n * 2), ncol = 2) - matrix(c(1, 1), nrow = n, ncol = 2, byrow = TRUE) # Et celle-ci la classe \"1\"\n",
    "\n",
    "x <- rbind(x1, x2)\n",
    "y <- c(rep(1, n), rep(-1, n))\n",
    "\n",
    "data0 <- data.frame(x1 = x[, 1], x2 = x[, 2], y = as.factor(y))"
   ]
  },
  {
   "cell_type": "code",
   "execution_count": 15,
   "id": "1c001763-f76d-494a-8e14-9d2b0dd13f45",
   "metadata": {},
   "outputs": [],
   "source": [
    "data0$y <- ifelse(data0$y == -1, 0, 1)"
   ]
  },
  {
   "cell_type": "markdown",
   "id": "34c072d1-1ca1-4719-b698-aa52905d9b7c",
   "metadata": {},
   "source": [
    "#### Construction de nos modèles"
   ]
  },
  {
   "cell_type": "code",
   "execution_count": 16,
   "id": "e1c50eae-764b-4ee6-b54e-22225670c3aa",
   "metadata": {},
   "outputs": [],
   "source": [
    "# Modèle GBM avec perte Bernoulli\n",
    "model_gbm_bernoulli <- gbm(y ~ x1 + x2, data = data0, distribution = \"bernoulli\", n.trees = 100)\n",
    "\n",
    "# Modèle GBM avec perte Adaboost\n",
    "model_gbm_adaboost <- gbm(y ~ x1 + x2, data = data0, distribution = \"adaboost\", n.trees = 100)\n",
    "\n",
    "# Générer une grille pour visualiser les frontières de décision\n",
    "grid <- expand.grid(\n",
    "  x1 = seq(min(data0$x1) - 0.5, max(data0$x1) + 0.5, length.out = 100),\n",
    "  x2 = seq(min(data0$x2) - 0.5, max(data0$x2) + 0.5, length.out = 100)\n",
    ")\n",
    "\n",
    "# Prédictions\n",
    "pred_bernoulli <- predict(model_gbm_bernoulli, newdata = grid, n.trees = 100, type = \"response\")\n",
    "pred_adaboost <- predict(model_gbm_adaboost, newdata = grid, n.trees = 100, type = \"response\")"
   ]
  },
  {
   "cell_type": "code",
   "execution_count": 17,
   "id": "9de6d4d0-e457-48e4-a58d-cd8ab5673598",
   "metadata": {},
   "outputs": [],
   "source": [
    "# Conversion en classes\n",
    "class_bernoulli <- ifelse(pred_bernoulli > 0.5, 1, -1)\n",
    "class_adaboost <- ifelse(pred_adaboost > 0.5, 1, -1)\n",
    "\n",
    "# Ajout des résultats dans la grille\n",
    "grid$class_bernoulli <- as.factor(class_bernoulli)\n",
    "grid$class_adaboost <- as.factor(class_adaboost)\n"
   ]
  },
  {
   "cell_type": "code",
   "execution_count": 18,
   "id": "00ee131c-ac15-45e1-9c08-26856a2f9833",
   "metadata": {},
   "outputs": [
    {
     "data": {
      "image/png": "[encoded data removed]",
      "text/plain": [
       "Plot with title \"Classification : Bernoulli et Adaboost\""
      ]
     },
     "metadata": {
      "image/png": {
       "height": 420,
       "width": 420
      }
     },
     "output_type": "display_data"
    }
   ],
   "source": [
    "# Générer des valeurs de y * f pour les graphiques\n",
    "yf <- seq(-2, 2, length.out = 100)\n",
    "\n",
    "# Créer et sauvegarder les graphiques en format PNG\n",
    "#png(\"pertes_Bernou_AdaBoost.png\", width = 2000, height = 500, res = 200)  # Taille et résolution pour la qualité\n",
    "\n",
    "# Configurer la grille de graphiques\n",
    "par(mfrow = c(2,2), mar = c(4, 4, 2, 1) + 0.1)  # Ajuster les marges pour plus d'espace\n",
    "\n",
    "\n",
    "# Courbe fonction de perte Bernoulli\n",
    "plot(yf, bernoulli_loss(1, yf), type = \"l\", ylab = \"Loss\", xlab = expression(y * f), \n",
    "     col = \"red\", lty = 1, lwd = 2, main = \"Fonctions de perte\")\n",
    "\n",
    "# Courbe fonction de perte Adaboost\n",
    "lines(yf, adaboost_loss(1, yf), col = \"blue\", lty = 2, lwd = 2)\n",
    "\n",
    "legend(\"topright\", legend = c(\"Bernoulli\", \"Adaboost\"),\n",
    "       col = c(\"red\", \"blue\"), lty = c(1, 2), lwd = 2)\n",
    "\n",
    "# Graphe des de la distribution de données\n",
    "plot(data0$x1, data0$x2, col = ifelse(data0$y == 1, \"black\", \"gray\"), pch = 16,\n",
    "     xlab = \"x1\", ylab = \"x2\", main = \"Distribution de données\")\n",
    "\n",
    "# Graphe illustratif ente Adaboost et Bernoulli\n",
    "plot(data0$x1, data0$x2, col = ifelse(data0$y == 1, \"black\", \"gray\"), pch = 16,\n",
    "     xlab = \"x1\", ylab = \"x2\", main = \"Classification : Bernoulli et Adaboost\")\n",
    "\n",
    "# Contours pour Bernoulli\n",
    "contour(unique(grid$x1), unique(grid$x2), matrix(as.numeric(grid$class_bernoulli), 100, 100),\n",
    "        add = TRUE, drawlabels = FALSE, col = \"red\", lty = 1, lwd = 2)\n",
    "\n",
    "# Contours pour Adaboost\n",
    "contour(unique(grid$x1), unique(grid$x2), matrix(as.numeric(grid$class_adaboost), 100, 100),\n",
    "        add = TRUE, drawlabels = FALSE, col = \"blue\", lty = 2, lwd = 2)\n",
    "\n",
    "legend(\"topright\", legend = c(\"Bernoulli\", \"Adaboost\"),\n",
    "       col = c(\"red\", \"blue\"), lty = c(1, 2), lwd = 2)\n",
    "\n",
    "#dev.off()"
   ]
  },
  {
   "cell_type": "markdown",
   "id": "8b3554f8-4845-471c-acc6-3227294057fb",
   "metadata": {},
   "source": [
    "### Illustration du GBM pour différents nombres d'arbres en utilisant la fonction de perte L2"
   ]
  },
  {
   "cell_type": "code",
   "execution_count": 19,
   "id": "32d04b9c-16c8-40f4-b824-d2a1fd126612",
   "metadata": {},
   "outputs": [],
   "source": [
    "# Créons une séquence pour stocker le nombre d'arbres pour chaque modèle\n",
    "arbres <- c(5, 50, 100, 1000)\n",
    "\n",
    "# Pour les prédictions pour ces nombres d'arbres on a :\n",
    "y_preds <- list()\n",
    "\n",
    "for (i in arbres) {\n",
    "  model <- gbm(y_train ~ X_train, data = Xtrain_data,\n",
    "               distribution = \"gaussian\",\n",
    "               n.trees = i,\n",
    "               interaction.depth = 3,\n",
    "               shrinkage = 0.1,\n",
    "               n.minobsinnode = 10,\n",
    "               cv.folds = 5,\n",
    "               verbose = FALSE)\n",
    "\n",
    "  # Les prédictions sur les données de test nous donnent :\n",
    "  y_pred <- predict(model, newdata = data.frame(X_train = X_test), n.trees = i)\n",
    "  y_preds[[as.character(i)]] <- y_pred\n",
    "}"
   ]
  },
  {
   "cell_type": "code",
   "execution_count": 20,
   "id": "2e860285-78ba-4585-b5d3-5c939937ac03",
   "metadata": {
    "scrolled": true
   },
   "outputs": [
    {
     "data": {
      "image/png": "[encoded data removed]",
      "text/plain": [
       "Plot with title \"1000 arbre(s)\""
      ]
     },
     "metadata": {
      "image/png": {
       "height": 420,
       "width": 420
      }
     },
     "output_type": "display_data"
    }
   ],
   "source": [
    "#png(\"graphes_arbre_5_50_100_1000.png\", width = 2000, height = 1200, res = 200)  # Taille et résolution pour la qualité\n",
    "\n",
    "# Configuration de la disposition des graphiques\n",
    "par(mfrow = c(2, 2))  # Pour afficher les graphes comme une matrice 2x2\n",
    "\n",
    "# Avec cette boucle on va pouvoir tracer les résultats\n",
    "for (i in arbres) {\n",
    "  plot(X_train, y_train, type = \"l\", col = \"black\", lwd = 2, main = paste(i, \"arbre(s)\"),\n",
    "       xlab = \"X\", ylab = \"Prédictions\")\n",
    "  lines(X_test, y_preds[[as.character(i)]], col = \"blue\", lwd = 2)\n",
    "}\n",
    "\n",
    "#dev.off()"
   ]
  },
  {
   "cell_type": "markdown",
   "id": "c644f083-eee0-4f82-951c-92f8480752d0",
   "metadata": {},
   "source": [
    "# Deuxième partie : Application sur des données réelles"
   ]
  },
  {
   "cell_type": "code",
   "execution_count": 21,
   "id": "90e9410a-c4f5-4fbb-8b87-727d94d3c93b",
   "metadata": {
    "scrolled": true
   },
   "outputs": [
    {
     "name": "stderr",
     "output_type": "stream",
     "text": [
      "Warning message:\n",
      "\"package 'tidyverse' was built under R version 4.3.3\"\n",
      "Warning message:\n",
      "\"package 'readr' was built under R version 4.3.3\"\n",
      "── \u001b[1mAttaching core tidyverse packages\u001b[22m ──────────────────────── tidyverse 2.0.0 ──\n",
      "\u001b[32m✔\u001b[39m \u001b[34mdplyr    \u001b[39m 1.1.4     \u001b[32m✔\u001b[39m \u001b[34mreadr    \u001b[39m 2.1.5\n",
      "\u001b[32m✔\u001b[39m \u001b[34mforcats  \u001b[39m 1.0.0     \u001b[32m✔\u001b[39m \u001b[34mstringr  \u001b[39m 1.5.1\n",
      "\u001b[32m✔\u001b[39m \u001b[34mlubridate\u001b[39m 1.9.3     \u001b[32m✔\u001b[39m \u001b[34mtibble   \u001b[39m 3.2.1\n",
      "\u001b[32m✔\u001b[39m \u001b[34mpurrr    \u001b[39m 1.0.2     \u001b[32m✔\u001b[39m \u001b[34mtidyr    \u001b[39m 1.3.1\n",
      "── \u001b[1mConflicts\u001b[22m ────────────────────────────────────────── tidyverse_conflicts() ──\n",
      "\u001b[31m✖\u001b[39m \u001b[34mdplyr\u001b[39m::\u001b[32mfilter()\u001b[39m masks \u001b[34mstats\u001b[39m::filter()\n",
      "\u001b[31m✖\u001b[39m \u001b[34mdplyr\u001b[39m::\u001b[32mlag()\u001b[39m    masks \u001b[34mstats\u001b[39m::lag()\n",
      "\u001b[31m✖\u001b[39m \u001b[34mdplyr\u001b[39m::\u001b[32mselect()\u001b[39m masks \u001b[34mMASS\u001b[39m::select()\n",
      "\u001b[31m✖\u001b[39m \u001b[34mdplyr\u001b[39m::\u001b[32mslice()\u001b[39m  masks \u001b[34mxgboost\u001b[39m::slice()\n",
      "\u001b[36mℹ\u001b[39m Use the conflicted package (\u001b[3m\u001b[34m<http://conflicted.r-lib.org/>\u001b[39m\u001b[23m) to force all conflicts to become errors\n",
      "Warning message:\n",
      "\"package 'caret' was built under R version 4.3.3\"\n",
      "Loading required package: lattice\n",
      "\n",
      "\n",
      "Attaching package: 'caret'\n",
      "\n",
      "\n",
      "The following object is masked from 'package:purrr':\n",
      "\n",
      "    lift\n",
      "\n",
      "\n"
     ]
    }
   ],
   "source": [
    "# Chargement des bibliothèques nécessaires pour notre cas pratique (on chargera les autres au fure à mesure qu'on avance)\n",
    "library(tidyverse)\n",
    "library(caret)"
   ]
  },
  {
   "cell_type": "markdown",
   "id": "7b9ac57a-bf11-4333-8e0d-f126867d0f5f",
   "metadata": {},
   "source": [
    "## Exploration des données"
   ]
  },
  {
   "cell_type": "code",
   "execution_count": 22,
   "id": "ef5e1908-caf0-4189-8927-2777e2d344a1",
   "metadata": {},
   "outputs": [],
   "source": [
    "# Lecture des données\n",
    "data <- read.csv('Downloads/breast_cancer.csv')"
   ]
  },
  {
   "cell_type": "code",
   "execution_count": 23,
   "id": "857b1271-2d68-4e9f-92cd-86cbf421e89b",
   "metadata": {},
   "outputs": [
    {
     "data": {
      "text/html": [
       "<table class=\"dataframe\">\n",
       "<caption>A data.frame: 6 × 32</caption>\n",
       "<thead>\n",
       "\t<tr><th></th><th scope=col>id</th><th scope=col>diagnosis</th><th scope=col>radius_mean</th><th scope=col>texture_mean</th><th scope=col>perimeter_mean</th><th scope=col>area_mean</th><th scope=col>smoothness_mean</th><th scope=col>compactness_mean</th><th scope=col>concavity_mean</th><th scope=col>concave_points_mean</th><th scope=col>⋯</th><th scope=col>radius_worst</th><th scope=col>texture_worst</th><th scope=col>perimeter_worst</th><th scope=col>area_worst</th><th scope=col>smoothness_worst</th><th scope=col>compactness_worst</th><th scope=col>concavity_worst</th><th scope=col>concave_points_worst</th><th scope=col>symmetry_worst</th><th scope=col>fractal_dimension_worst</th></tr>\n",
       "\t<tr><th></th><th scope=col>&lt;int&gt;</th><th scope=col>&lt;chr&gt;</th><th scope=col>&lt;dbl&gt;</th><th scope=col>&lt;dbl&gt;</th><th scope=col>&lt;dbl&gt;</th><th scope=col>&lt;dbl&gt;</th><th scope=col>&lt;dbl&gt;</th><th scope=col>&lt;dbl&gt;</th><th scope=col>&lt;dbl&gt;</th><th scope=col>&lt;dbl&gt;</th><th scope=col>⋯</th><th scope=col>&lt;dbl&gt;</th><th scope=col>&lt;dbl&gt;</th><th scope=col>&lt;dbl&gt;</th><th scope=col>&lt;dbl&gt;</th><th scope=col>&lt;dbl&gt;</th><th scope=col>&lt;dbl&gt;</th><th scope=col>&lt;dbl&gt;</th><th scope=col>&lt;dbl&gt;</th><th scope=col>&lt;dbl&gt;</th><th scope=col>&lt;dbl&gt;</th></tr>\n",
       "</thead>\n",
       "<tbody>\n",
       "\t<tr><th scope=row>1</th><td>  842302</td><td>M</td><td>17.99</td><td>10.38</td><td>122.80</td><td>1001.0</td><td>0.11840</td><td>0.27760</td><td>0.3001</td><td>0.14710</td><td>⋯</td><td>25.38</td><td>17.33</td><td>184.60</td><td>2019.0</td><td>0.1622</td><td>0.6656</td><td>0.7119</td><td>0.2654</td><td>0.4601</td><td>0.11890</td></tr>\n",
       "\t<tr><th scope=row>2</th><td>  842517</td><td>M</td><td>20.57</td><td>17.77</td><td>132.90</td><td>1326.0</td><td>0.08474</td><td>0.07864</td><td>0.0869</td><td>0.07017</td><td>⋯</td><td>24.99</td><td>23.41</td><td>158.80</td><td>1956.0</td><td>0.1238</td><td>0.1866</td><td>0.2416</td><td>0.1860</td><td>0.2750</td><td>0.08902</td></tr>\n",
       "\t<tr><th scope=row>3</th><td>84300903</td><td>M</td><td>19.69</td><td>21.25</td><td>130.00</td><td>1203.0</td><td>0.10960</td><td>0.15990</td><td>0.1974</td><td>0.12790</td><td>⋯</td><td>23.57</td><td>25.53</td><td>152.50</td><td>1709.0</td><td>0.1444</td><td>0.4245</td><td>0.4504</td><td>0.2430</td><td>0.3613</td><td>0.08758</td></tr>\n",
       "\t<tr><th scope=row>4</th><td>84348301</td><td>M</td><td>11.42</td><td>20.38</td><td> 77.58</td><td> 386.1</td><td>0.14250</td><td>0.28390</td><td>0.2414</td><td>0.10520</td><td>⋯</td><td>14.91</td><td>26.50</td><td> 98.87</td><td> 567.7</td><td>0.2098</td><td>0.8663</td><td>0.6869</td><td>0.2575</td><td>0.6638</td><td>0.17300</td></tr>\n",
       "\t<tr><th scope=row>5</th><td>84358402</td><td>M</td><td>20.29</td><td>14.34</td><td>135.10</td><td>1297.0</td><td>0.10030</td><td>0.13280</td><td>0.1980</td><td>0.10430</td><td>⋯</td><td>22.54</td><td>16.67</td><td>152.20</td><td>1575.0</td><td>0.1374</td><td>0.2050</td><td>0.4000</td><td>0.1625</td><td>0.2364</td><td>0.07678</td></tr>\n",
       "\t<tr><th scope=row>6</th><td>  843786</td><td>M</td><td>12.45</td><td>15.70</td><td> 82.57</td><td> 477.1</td><td>0.12780</td><td>0.17000</td><td>0.1578</td><td>0.08089</td><td>⋯</td><td>15.47</td><td>23.75</td><td>103.40</td><td> 741.6</td><td>0.1791</td><td>0.5249</td><td>0.5355</td><td>0.1741</td><td>0.3985</td><td>0.12440</td></tr>\n",
       "</tbody>\n",
       "</table>\n"
      ],
      "text/latex": [
       "A data.frame: 6 × 32\n",
       "\\begin{tabular}{r|lllllllllllllllllllll}\n",
       "  & id & diagnosis & radius\\_mean & texture\\_mean & perimeter\\_mean & area\\_mean & smoothness\\_mean & compactness\\_mean & concavity\\_mean & concave\\_points\\_mean & ⋯ & radius\\_worst & texture\\_worst & perimeter\\_worst & area\\_worst & smoothness\\_worst & compactness\\_worst & concavity\\_worst & concave\\_points\\_worst & symmetry\\_worst & fractal\\_dimension\\_worst\\\\\n",
       "  & <int> & <chr> & <dbl> & <dbl> & <dbl> & <dbl> & <dbl> & <dbl> & <dbl> & <dbl> & ⋯ & <dbl> & <dbl> & <dbl> & <dbl> & <dbl> & <dbl> & <dbl> & <dbl> & <dbl> & <dbl>\\\\\n",
       "\\hline\n",
       "\t1 &   842302 & M & 17.99 & 10.38 & 122.80 & 1001.0 & 0.11840 & 0.27760 & 0.3001 & 0.14710 & ⋯ & 25.38 & 17.33 & 184.60 & 2019.0 & 0.1622 & 0.6656 & 0.7119 & 0.2654 & 0.4601 & 0.11890\\\\\n",
       "\t2 &   842517 & M & 20.57 & 17.77 & 132.90 & 1326.0 & 0.08474 & 0.07864 & 0.0869 & 0.07017 & ⋯ & 24.99 & 23.41 & 158.80 & 1956.0 & 0.1238 & 0.1866 & 0.2416 & 0.1860 & 0.2750 & 0.08902\\\\\n",
       "\t3 & 84300903 & M & 19.69 & 21.25 & 130.00 & 1203.0 & 0.10960 & 0.15990 & 0.1974 & 0.12790 & ⋯ & 23.57 & 25.53 & 152.50 & 1709.0 & 0.1444 & 0.4245 & 0.4504 & 0.2430 & 0.3613 & 0.08758\\\\\n",
       "\t4 & 84348301 & M & 11.42 & 20.38 &  77.58 &  386.1 & 0.14250 & 0.28390 & 0.2414 & 0.10520 & ⋯ & 14.91 & 26.50 &  98.87 &  567.7 & 0.2098 & 0.8663 & 0.6869 & 0.2575 & 0.6638 & 0.17300\\\\\n",
       "\t5 & 84358402 & M & 20.29 & 14.34 & 135.10 & 1297.0 & 0.10030 & 0.13280 & 0.1980 & 0.10430 & ⋯ & 22.54 & 16.67 & 152.20 & 1575.0 & 0.1374 & 0.2050 & 0.4000 & 0.1625 & 0.2364 & 0.07678\\\\\n",
       "\t6 &   843786 & M & 12.45 & 15.70 &  82.57 &  477.1 & 0.12780 & 0.17000 & 0.1578 & 0.08089 & ⋯ & 15.47 & 23.75 & 103.40 &  741.6 & 0.1791 & 0.5249 & 0.5355 & 0.1741 & 0.3985 & 0.12440\\\\\n",
       "\\end{tabular}\n"
      ],
      "text/markdown": [
       "\n",
       "A data.frame: 6 × 32\n",
       "\n",
       "| <!--/--> | id &lt;int&gt; | diagnosis &lt;chr&gt; | radius_mean &lt;dbl&gt; | texture_mean &lt;dbl&gt; | perimeter_mean &lt;dbl&gt; | area_mean &lt;dbl&gt; | smoothness_mean &lt;dbl&gt; | compactness_mean &lt;dbl&gt; | concavity_mean &lt;dbl&gt; | concave_points_mean &lt;dbl&gt; | ⋯ ⋯ | radius_worst &lt;dbl&gt; | texture_worst &lt;dbl&gt; | perimeter_worst &lt;dbl&gt; | area_worst &lt;dbl&gt; | smoothness_worst &lt;dbl&gt; | compactness_worst &lt;dbl&gt; | concavity_worst &lt;dbl&gt; | concave_points_worst &lt;dbl&gt; | symmetry_worst &lt;dbl&gt; | fractal_dimension_worst &lt;dbl&gt; |\n",
       "|---|---|---|---|---|---|---|---|---|---|---|---|---|---|---|---|---|---|---|---|---|---|\n",
       "| 1 |   842302 | M | 17.99 | 10.38 | 122.80 | 1001.0 | 0.11840 | 0.27760 | 0.3001 | 0.14710 | ⋯ | 25.38 | 17.33 | 184.60 | 2019.0 | 0.1622 | 0.6656 | 0.7119 | 0.2654 | 0.4601 | 0.11890 |\n",
       "| 2 |   842517 | M | 20.57 | 17.77 | 132.90 | 1326.0 | 0.08474 | 0.07864 | 0.0869 | 0.07017 | ⋯ | 24.99 | 23.41 | 158.80 | 1956.0 | 0.1238 | 0.1866 | 0.2416 | 0.1860 | 0.2750 | 0.08902 |\n",
       "| 3 | 84300903 | M | 19.69 | 21.25 | 130.00 | 1203.0 | 0.10960 | 0.15990 | 0.1974 | 0.12790 | ⋯ | 23.57 | 25.53 | 152.50 | 1709.0 | 0.1444 | 0.4245 | 0.4504 | 0.2430 | 0.3613 | 0.08758 |\n",
       "| 4 | 84348301 | M | 11.42 | 20.38 |  77.58 |  386.1 | 0.14250 | 0.28390 | 0.2414 | 0.10520 | ⋯ | 14.91 | 26.50 |  98.87 |  567.7 | 0.2098 | 0.8663 | 0.6869 | 0.2575 | 0.6638 | 0.17300 |\n",
       "| 5 | 84358402 | M | 20.29 | 14.34 | 135.10 | 1297.0 | 0.10030 | 0.13280 | 0.1980 | 0.10430 | ⋯ | 22.54 | 16.67 | 152.20 | 1575.0 | 0.1374 | 0.2050 | 0.4000 | 0.1625 | 0.2364 | 0.07678 |\n",
       "| 6 |   843786 | M | 12.45 | 15.70 |  82.57 |  477.1 | 0.12780 | 0.17000 | 0.1578 | 0.08089 | ⋯ | 15.47 | 23.75 | 103.40 |  741.6 | 0.1791 | 0.5249 | 0.5355 | 0.1741 | 0.3985 | 0.12440 |\n",
       "\n"
      ],
      "text/plain": [
       "  id       diagnosis radius_mean texture_mean perimeter_mean area_mean\n",
       "1   842302 M         17.99       10.38        122.80         1001.0   \n",
       "2   842517 M         20.57       17.77        132.90         1326.0   \n",
       "3 84300903 M         19.69       21.25        130.00         1203.0   \n",
       "4 84348301 M         11.42       20.38         77.58          386.1   \n",
       "5 84358402 M         20.29       14.34        135.10         1297.0   \n",
       "6   843786 M         12.45       15.70         82.57          477.1   \n",
       "  smoothness_mean compactness_mean concavity_mean concave_points_mean ⋯\n",
       "1 0.11840         0.27760          0.3001         0.14710             ⋯\n",
       "2 0.08474         0.07864          0.0869         0.07017             ⋯\n",
       "3 0.10960         0.15990          0.1974         0.12790             ⋯\n",
       "4 0.14250         0.28390          0.2414         0.10520             ⋯\n",
       "5 0.10030         0.13280          0.1980         0.10430             ⋯\n",
       "6 0.12780         0.17000          0.1578         0.08089             ⋯\n",
       "  radius_worst texture_worst perimeter_worst area_worst smoothness_worst\n",
       "1 25.38        17.33         184.60          2019.0     0.1622          \n",
       "2 24.99        23.41         158.80          1956.0     0.1238          \n",
       "3 23.57        25.53         152.50          1709.0     0.1444          \n",
       "4 14.91        26.50          98.87           567.7     0.2098          \n",
       "5 22.54        16.67         152.20          1575.0     0.1374          \n",
       "6 15.47        23.75         103.40           741.6     0.1791          \n",
       "  compactness_worst concavity_worst concave_points_worst symmetry_worst\n",
       "1 0.6656            0.7119          0.2654               0.4601        \n",
       "2 0.1866            0.2416          0.1860               0.2750        \n",
       "3 0.4245            0.4504          0.2430               0.3613        \n",
       "4 0.8663            0.6869          0.2575               0.6638        \n",
       "5 0.2050            0.4000          0.1625               0.2364        \n",
       "6 0.5249            0.5355          0.1741               0.3985        \n",
       "  fractal_dimension_worst\n",
       "1 0.11890                \n",
       "2 0.08902                \n",
       "3 0.08758                \n",
       "4 0.17300                \n",
       "5 0.07678                \n",
       "6 0.12440                "
      ]
     },
     "metadata": {},
     "output_type": "display_data"
    },
    {
     "name": "stdout",
     "output_type": "stream",
     "text": [
      "'data.frame':\t569 obs. of  32 variables:\n",
      " $ id                     : int  842302 842517 84300903 84348301 84358402 843786 844359 84458202 844981 84501001 ...\n",
      " $ diagnosis              : chr  \"M\" \"M\" \"M\" \"M\" ...\n",
      " $ radius_mean            : num  18 20.6 19.7 11.4 20.3 ...\n",
      " $ texture_mean           : num  10.4 17.8 21.2 20.4 14.3 ...\n",
      " $ perimeter_mean         : num  122.8 132.9 130 77.6 135.1 ...\n",
      " $ area_mean              : num  1001 1326 1203 386 1297 ...\n",
      " $ smoothness_mean        : num  0.1184 0.0847 0.1096 0.1425 0.1003 ...\n",
      " $ compactness_mean       : num  0.2776 0.0786 0.1599 0.2839 0.1328 ...\n",
      " $ concavity_mean         : num  0.3001 0.0869 0.1974 0.2414 0.198 ...\n",
      " $ concave_points_mean    : num  0.1471 0.0702 0.1279 0.1052 0.1043 ...\n",
      " $ symmetry_mean          : num  0.242 0.181 0.207 0.26 0.181 ...\n",
      " $ fractal_dimension_mean : num  0.0787 0.0567 0.06 0.0974 0.0588 ...\n",
      " $ radius_se              : num  1.095 0.543 0.746 0.496 0.757 ...\n",
      " $ texture_se             : num  0.905 0.734 0.787 1.156 0.781 ...\n",
      " $ perimeter_se           : num  8.59 3.4 4.58 3.44 5.44 ...\n",
      " $ area_se                : num  153.4 74.1 94 27.2 94.4 ...\n",
      " $ smoothness_se          : num  0.0064 0.00522 0.00615 0.00911 0.01149 ...\n",
      " $ compactness_se         : num  0.049 0.0131 0.0401 0.0746 0.0246 ...\n",
      " $ concavity_se           : num  0.0537 0.0186 0.0383 0.0566 0.0569 ...\n",
      " $ concave_points_se      : num  0.0159 0.0134 0.0206 0.0187 0.0188 ...\n",
      " $ symmetry_se            : num  0.03 0.0139 0.0225 0.0596 0.0176 ...\n",
      " $ fractal_dimension_se   : num  0.00619 0.00353 0.00457 0.00921 0.00511 ...\n",
      " $ radius_worst           : num  25.4 25 23.6 14.9 22.5 ...\n",
      " $ texture_worst          : num  17.3 23.4 25.5 26.5 16.7 ...\n",
      " $ perimeter_worst        : num  184.6 158.8 152.5 98.9 152.2 ...\n",
      " $ area_worst             : num  2019 1956 1709 568 1575 ...\n",
      " $ smoothness_worst       : num  0.162 0.124 0.144 0.21 0.137 ...\n",
      " $ compactness_worst      : num  0.666 0.187 0.424 0.866 0.205 ...\n",
      " $ concavity_worst        : num  0.712 0.242 0.45 0.687 0.4 ...\n",
      " $ concave_points_worst   : num  0.265 0.186 0.243 0.258 0.163 ...\n",
      " $ symmetry_worst         : num  0.46 0.275 0.361 0.664 0.236 ...\n",
      " $ fractal_dimension_worst: num  0.1189 0.089 0.0876 0.173 0.0768 ...\n"
     ]
    }
   ],
   "source": [
    "head(data)\n",
    "str(data)"
   ]
  },
  {
   "cell_type": "markdown",
   "id": "174aacc3-be20-47a7-90a4-b52fd06e4e7f",
   "metadata": {},
   "source": [
    "On remarque qu'on a la variable qualitative $diagnosis$ (catégorielle) en $character$, on va d'abord transformer le \"B\" en \"0\" et le \"M\" en \"1\" puis la mettre de type $numeric$."
   ]
  },
  {
   "cell_type": "code",
   "execution_count": 24,
   "id": "d64d2594-edcf-4875-bcdc-8c838c3d23ce",
   "metadata": {},
   "outputs": [
    {
     "data": {
      "text/plain": [
       "\n",
       "  1   2 \n",
       "357 212 "
      ]
     },
     "metadata": {},
     "output_type": "display_data"
    }
   ],
   "source": [
    "# Conversion de la variable diagnosis : on convertit le \"M\" en \"1\" et le \"B\" en \"0\"\n",
    "data$diagnosis <- as.factor(ifelse(data$diagnosis == \"M\", 1, 0))\n",
    "data$diagnosis <- as.numeric(data$diagnosis)\n",
    "\n",
    "# Vérifier les changements\n",
    "table(data$diagnosis)"
   ]
  },
  {
   "cell_type": "markdown",
   "id": "9d65dab4-a9bb-42bb-b388-2cd29068201c",
   "metadata": {},
   "source": [
    "Avec ces sorties, on constate qu'on a 357 patients avec une tumeur bénigne (classe \"0\") et 212 avec une tumeur maligne (classe \"1\")."
   ]
  },
  {
   "cell_type": "code",
   "execution_count": 25,
   "id": "f8b5f8b5-e548-4b4a-8e8f-cb6381c8a089",
   "metadata": {},
   "outputs": [
    {
     "data": {
      "text/plain": [
       "       id              diagnosis      radius_mean      texture_mean  \n",
       " Min.   :     8670   Min.   :1.000   Min.   : 6.981   Min.   : 9.71  \n",
       " 1st Qu.:   869218   1st Qu.:1.000   1st Qu.:11.700   1st Qu.:16.17  \n",
       " Median :   906024   Median :1.000   Median :13.370   Median :18.84  \n",
       " Mean   : 30371831   Mean   :1.373   Mean   :14.127   Mean   :19.29  \n",
       " 3rd Qu.:  8813129   3rd Qu.:2.000   3rd Qu.:15.780   3rd Qu.:21.80  \n",
       " Max.   :911320502   Max.   :2.000   Max.   :28.110   Max.   :39.28  \n",
       " perimeter_mean     area_mean      smoothness_mean   compactness_mean \n",
       " Min.   : 43.79   Min.   : 143.5   Min.   :0.05263   Min.   :0.01938  \n",
       " 1st Qu.: 75.17   1st Qu.: 420.3   1st Qu.:0.08637   1st Qu.:0.06492  \n",
       " Median : 86.24   Median : 551.1   Median :0.09587   Median :0.09263  \n",
       " Mean   : 91.97   Mean   : 654.9   Mean   :0.09636   Mean   :0.10434  \n",
       " 3rd Qu.:104.10   3rd Qu.: 782.7   3rd Qu.:0.10530   3rd Qu.:0.13040  \n",
       " Max.   :188.50   Max.   :2501.0   Max.   :0.16340   Max.   :0.34540  \n",
       " concavity_mean    concave_points_mean symmetry_mean    fractal_dimension_mean\n",
       " Min.   :0.00000   Min.   :0.00000     Min.   :0.1060   Min.   :0.04996       \n",
       " 1st Qu.:0.02956   1st Qu.:0.02031     1st Qu.:0.1619   1st Qu.:0.05770       \n",
       " Median :0.06154   Median :0.03350     Median :0.1792   Median :0.06154       \n",
       " Mean   :0.08880   Mean   :0.04892     Mean   :0.1812   Mean   :0.06280       \n",
       " 3rd Qu.:0.13070   3rd Qu.:0.07400     3rd Qu.:0.1957   3rd Qu.:0.06612       \n",
       " Max.   :0.42680   Max.   :0.20120     Max.   :0.3040   Max.   :0.09744       \n",
       "   radius_se        texture_se      perimeter_se       area_se       \n",
       " Min.   :0.1115   Min.   :0.3602   Min.   : 0.757   Min.   :  6.802  \n",
       " 1st Qu.:0.2324   1st Qu.:0.8339   1st Qu.: 1.606   1st Qu.: 17.850  \n",
       " Median :0.3242   Median :1.1080   Median : 2.287   Median : 24.530  \n",
       " Mean   :0.4052   Mean   :1.2169   Mean   : 2.866   Mean   : 40.337  \n",
       " 3rd Qu.:0.4789   3rd Qu.:1.4740   3rd Qu.: 3.357   3rd Qu.: 45.190  \n",
       " Max.   :2.8730   Max.   :4.8850   Max.   :21.980   Max.   :542.200  \n",
       " smoothness_se      compactness_se      concavity_se     concave_points_se \n",
       " Min.   :0.001713   Min.   :0.002252   Min.   :0.00000   Min.   :0.000000  \n",
       " 1st Qu.:0.005169   1st Qu.:0.013080   1st Qu.:0.01509   1st Qu.:0.007638  \n",
       " Median :0.006380   Median :0.020450   Median :0.02589   Median :0.010930  \n",
       " Mean   :0.007041   Mean   :0.025478   Mean   :0.03189   Mean   :0.011796  \n",
       " 3rd Qu.:0.008146   3rd Qu.:0.032450   3rd Qu.:0.04205   3rd Qu.:0.014710  \n",
       " Max.   :0.031130   Max.   :0.135400   Max.   :0.39600   Max.   :0.052790  \n",
       "  symmetry_se       fractal_dimension_se  radius_worst   texture_worst  \n",
       " Min.   :0.007882   Min.   :0.0008948    Min.   : 7.93   Min.   :12.02  \n",
       " 1st Qu.:0.015160   1st Qu.:0.0022480    1st Qu.:13.01   1st Qu.:21.08  \n",
       " Median :0.018730   Median :0.0031870    Median :14.97   Median :25.41  \n",
       " Mean   :0.020542   Mean   :0.0037949    Mean   :16.27   Mean   :25.68  \n",
       " 3rd Qu.:0.023480   3rd Qu.:0.0045580    3rd Qu.:18.79   3rd Qu.:29.72  \n",
       " Max.   :0.078950   Max.   :0.0298400    Max.   :36.04   Max.   :49.54  \n",
       " perimeter_worst    area_worst     smoothness_worst  compactness_worst\n",
       " Min.   : 50.41   Min.   : 185.2   Min.   :0.07117   Min.   :0.02729  \n",
       " 1st Qu.: 84.11   1st Qu.: 515.3   1st Qu.:0.11660   1st Qu.:0.14720  \n",
       " Median : 97.66   Median : 686.5   Median :0.13130   Median :0.21190  \n",
       " Mean   :107.26   Mean   : 880.6   Mean   :0.13237   Mean   :0.25427  \n",
       " 3rd Qu.:125.40   3rd Qu.:1084.0   3rd Qu.:0.14600   3rd Qu.:0.33910  \n",
       " Max.   :251.20   Max.   :4254.0   Max.   :0.22260   Max.   :1.05800  \n",
       " concavity_worst  concave_points_worst symmetry_worst   fractal_dimension_worst\n",
       " Min.   :0.0000   Min.   :0.00000      Min.   :0.1565   Min.   :0.05504        \n",
       " 1st Qu.:0.1145   1st Qu.:0.06493      1st Qu.:0.2504   1st Qu.:0.07146        \n",
       " Median :0.2267   Median :0.09993      Median :0.2822   Median :0.08004        \n",
       " Mean   :0.2722   Mean   :0.11461      Mean   :0.2901   Mean   :0.08395        \n",
       " 3rd Qu.:0.3829   3rd Qu.:0.16140      3rd Qu.:0.3179   3rd Qu.:0.09208        \n",
       " Max.   :1.2520   Max.   :0.29100      Max.   :0.6638   Max.   :0.20750        "
      ]
     },
     "metadata": {},
     "output_type": "display_data"
    }
   ],
   "source": [
    "summary(data)"
   ]
  },
  {
   "cell_type": "code",
   "execution_count": 26,
   "id": "bb5fd75b-90a8-4ae8-a438-49adb199cab1",
   "metadata": {},
   "outputs": [
    {
     "data": {
      "text/html": [
       "0"
      ],
      "text/latex": [
       "0"
      ],
      "text/markdown": [
       "0"
      ],
      "text/plain": [
       "[1] 0"
      ]
     },
     "metadata": {},
     "output_type": "display_data"
    }
   ],
   "source": [
    "# Vérification des valeurs manquantes\n",
    "sum(is.na(data))"
   ]
  },
  {
   "cell_type": "markdown",
   "id": "69ae88fc-9f32-4dc1-8c6d-85a3446ff679",
   "metadata": {},
   "source": [
    "On constate qu'on a aucune valeur manquante, ce qui va nous faciliter dans la suite de notre étude."
   ]
  },
  {
   "cell_type": "markdown",
   "id": "517465ec-f858-454a-82c7-371725263413",
   "metadata": {},
   "source": [
    "Vu le nombre de variables qu'on a nous allons essayer de tracer le graphe des corrélations entre les variables pour avoir une idée sur comment les autres variables sont corrélées avec la variables cible $diagnosis$ de notre jeu de données. Mais vu le nombres de variables, il nous sera difficile d'utiliser certaines visualisations. Du coup on va essayer avec un barplot pour une meilleurs visualisation."
   ]
  },
  {
   "cell_type": "code",
   "execution_count": 27,
   "id": "b2f6d80b-b6d3-4736-93ad-6e4cd6c102b1",
   "metadata": {},
   "outputs": [],
   "source": [
    "# Calculons la matrice de corrélation pour toutes les variables numériques\n",
    "numeric_vars <- data %>% select_if(is.numeric)\n",
    "correlations <- cor(numeric_vars)\n",
    "\n",
    "# Extraire les corrélations avec la variable cible 'diagnosis'\n",
    "cor_target <- correlations[, \"diagnosis\"]"
   ]
  },
  {
   "cell_type": "code",
   "execution_count": 28,
   "id": "b2eb709f-7b6d-4652-9852-f314748bb082",
   "metadata": {},
   "outputs": [
    {
     "data": {
      "image/png": "[encoded data removed]",
      "text/plain": [
       "plot without title"
      ]
     },
     "metadata": {
      "image/png": {
       "height": 420,
       "width": 420
      }
     },
     "output_type": "display_data"
    }
   ],
   "source": [
    "#png(\"correlations_variables.png\", width = 2000, height = 1500, res = 200)  \n",
    "\n",
    "# Créer un dataframe pour ggplot\n",
    "df_strong_cor <- data.frame(variable = names(abs(cor_target)), correlation = abs(cor_target))\n",
    "\n",
    "# Créer le barplot\n",
    "ggplot(df_strong_cor, aes(x = reorder(variable, correlation), y = correlation)) +\n",
    "  geom_bar(stat = \"identity\", fill = \"steelblue\") +\n",
    "  coord_flip() +  # Inverser les axes pour une lecture plus facile\n",
    "  labs(title = \"Graphe corrélations des autres variables avec 'diagnosis'\", \n",
    "       x = \"Variables\", y = \"Corrélation\") +\n",
    "  theme_minimal()\n",
    "\n",
    "#dev.off()"
   ]
  },
  {
   "cell_type": "code",
   "execution_count": 29,
   "id": "38496450-9ae9-4b93-b08f-5cf4eab5a530",
   "metadata": {},
   "outputs": [
    {
     "data": {
      "text/html": [
       "<style>\n",
       ".list-inline {list-style: none; margin:0; padding: 0}\n",
       ".list-inline>li {display: inline-block}\n",
       ".list-inline>li:not(:last-child)::after {content: \"\\00b7\"; padding: 0 .5ex}\n",
       "</style>\n",
       "<ol class=list-inline><li>'diagnosis'</li><li>'radius_mean'</li><li>'perimeter_mean'</li><li>'area_mean'</li><li>'concave_points_mean'</li><li>'radius_worst'</li><li>'perimeter_worst'</li><li>'area_worst'</li><li>'concave_points_worst'</li></ol>\n"
      ],
      "text/latex": [
       "\\begin{enumerate*}\n",
       "\\item 'diagnosis'\n",
       "\\item 'radius\\_mean'\n",
       "\\item 'perimeter\\_mean'\n",
       "\\item 'area\\_mean'\n",
       "\\item 'concave\\_points\\_mean'\n",
       "\\item 'radius\\_worst'\n",
       "\\item 'perimeter\\_worst'\n",
       "\\item 'area\\_worst'\n",
       "\\item 'concave\\_points\\_worst'\n",
       "\\end{enumerate*}\n"
      ],
      "text/markdown": [
       "1. 'diagnosis'\n",
       "2. 'radius_mean'\n",
       "3. 'perimeter_mean'\n",
       "4. 'area_mean'\n",
       "5. 'concave_points_mean'\n",
       "6. 'radius_worst'\n",
       "7. 'perimeter_worst'\n",
       "8. 'area_worst'\n",
       "9. 'concave_points_worst'\n",
       "\n",
       "\n"
      ],
      "text/plain": [
       "[1] \"diagnosis\"            \"radius_mean\"          \"perimeter_mean\"      \n",
       "[4] \"area_mean\"            \"concave_points_mean\"  \"radius_worst\"        \n",
       "[7] \"perimeter_worst\"      \"area_worst\"           \"concave_points_worst\""
      ]
     },
     "metadata": {},
     "output_type": "display_data"
    }
   ],
   "source": [
    "# Essayons de filtrer les corrélations supérieures à 0.7 (en valeur absolue)\n",
    "strong_cor <- cor_target[abs(cor_target) > 0.7]\n",
    "\n",
    "# Puis on affiches leurs noms pour les distingués des autres :\n",
    "names(strong_cor)"
   ]
  },
  {
   "cell_type": "markdown",
   "id": "764dc4b8-3c14-4d30-b563-24bb598ea4bc",
   "metadata": {},
   "source": [
    "## Construction des modèle GBM, randomForest, SVM"
   ]
  },
  {
   "cell_type": "markdown",
   "id": "145330e8-fbd3-4cb3-9f09-90791fd0d0bd",
   "metadata": {},
   "source": [
    "### Préparation des données"
   ]
  },
  {
   "cell_type": "markdown",
   "id": "7d3cdd95-2b24-47d5-8a47-83bbcb95e6f8",
   "metadata": {},
   "source": [
    "Pour augmenter la robustesse des modèles ainsi que leurs qualités, commencons par séparer les données en données d'entrainement et de test avant l'utilisation de la validation croisée sur nos données d'entrainement pour tous les données."
   ]
  },
  {
   "cell_type": "code",
   "execution_count": 30,
   "id": "1340afc0-3ffb-4ce7-82cf-c4eb57f2dae5",
   "metadata": {},
   "outputs": [],
   "source": [
    "# Séparons les données en ensembles d'entraînement et de test\n",
    "set.seed(1234)\n",
    "train_indices <- sample(1:nrow(data), size = 0.8 * nrow(data)) # On prend 80% des données pour l'entrainement du modèle\n",
    "train_data <- data[train_indices, ]\n",
    "test_data <- data[-train_indices, ] # le \"-\" devant \"train_indices\" c'est pour prendre le reste des données (les 20% restant)"
   ]
  },
  {
   "cell_type": "code",
   "execution_count": 31,
   "id": "84ba54f3-dc8d-419b-8d88-6f2f456d150c",
   "metadata": {},
   "outputs": [],
   "source": [
    "# Normalisons les variables explicatives avant l'entrainement de nos modèles\n",
    "preprocess <- preProcess(train_data[, -1], method = c(\"center\", \"scale\"))\n",
    "train_data[, -1] <- predict(preprocess, train_data[, -1])\n",
    "test_data[, -1] <- predict(preprocess, test_data[, -1])"
   ]
  },
  {
   "cell_type": "markdown",
   "id": "28de9aea-0a34-4bd6-ae9f-ac02cb6d6393",
   "metadata": {},
   "source": [
    "### Entrainement des modèles"
   ]
  },
  {
   "cell_type": "markdown",
   "id": "ab42145b-cd88-4413-ae85-f9bf9f8100ce",
   "metadata": {},
   "source": [
    "#### Modèle gbm"
   ]
  },
  {
   "cell_type": "code",
   "execution_count": 32,
   "id": "c61519b5-3f25-445f-8ccb-46ded098e48e",
   "metadata": {},
   "outputs": [],
   "source": [
    "# Chargeons la librairie qui nous permet de construire notre modèle de gradient boosting\n",
    "library(gbm)"
   ]
  },
  {
   "cell_type": "markdown",
   "id": "08b5e413-87e8-4623-b0ec-5658093d9315",
   "metadata": {},
   "source": [
    "Pour une meilleure prédiction, nous allons partir avec un modèle à gradient boosting stochastic $(0 < bag.fraction < 1)$ pour obtenir un modèle plus robuste et efficace."
   ]
  },
  {
   "cell_type": "code",
   "execution_count": 33,
   "id": "f6aaa7e0-b952-4892-bd8c-494e56a82a31",
   "metadata": {},
   "outputs": [],
   "source": [
    "# Entraînement du modèle GBM\n",
    "set.seed(1234)\n",
    "\n",
    "# Mettre la variable cible est un facteur\n",
    "train_data$diagnosis <- as.factor(train_data$diagnosis)\n",
    "test_data$diagnosis <- as.factor(test_data$diagnosis)\n",
    "\n",
    "# Convertir le facteur en numérique 0 et 1\n",
    "train_data$diagnosis <- as.numeric(train_data$diagnosis) - 1\n",
    "test_data$diagnosis<- as.numeric(test_data$diagnosis) - 1\n",
    "\n",
    "\n",
    "gbm_model <- gbm(\n",
    "  formula = diagnosis ~ .,\n",
    "  data = train_data,\n",
    "  distribution = \"bernoulli\",\n",
    "  n.trees = 1500,\n",
    "  interaction.depth = 4,\n",
    "  shrinkage = 0.01,\n",
    "  bag.fraction = 0.1,  # On spécifie le taux de sous-échantillonnage \n",
    "  cv.folds = 5,\n",
    "  n.cores = NULL,\n",
    "  verbose = FALSE\n",
    ")"
   ]
  },
  {
   "cell_type": "code",
   "execution_count": 34,
   "id": "e94cfe10-5b54-4763-878f-25cfd523d18a",
   "metadata": {},
   "outputs": [
    {
     "name": "stdout",
     "output_type": "stream",
     "text": [
      "[1] \"Meilleur nombre d'arbres: 1133\"\n"
     ]
    },
    {
     "data": {
      "image/png": "[encoded data removed]",
      "text/plain": [
       "plot without title"
      ]
     },
     "metadata": {
      "image/png": {
       "height": 420,
       "width": 420
      }
     },
     "output_type": "display_data"
    }
   ],
   "source": [
    "# Sélection du meilleur nombre d'arbres pour optimiser notre modèle\n",
    "meilleur_iter <- gbm.perf(gbm_model, method = \"cv\")\n",
    "print(paste(\"Meilleur nombre d'arbres:\", meilleur_iter))"
   ]
  },
  {
   "cell_type": "code",
   "execution_count": 35,
   "id": "8a304792-2516-4f9c-a847-ddfd65c9e69b",
   "metadata": {},
   "outputs": [
    {
     "data": {
      "text/html": [
       "<table class=\"dataframe\">\n",
       "<caption>A data.frame: 6 × 2</caption>\n",
       "<thead>\n",
       "\t<tr><th></th><th scope=col>var</th><th scope=col>rel.inf</th></tr>\n",
       "\t<tr><th></th><th scope=col>&lt;chr&gt;</th><th scope=col>&lt;dbl&gt;</th></tr>\n",
       "</thead>\n",
       "<tbody>\n",
       "\t<tr><th scope=row>concave_points_worst</th><td>concave_points_worst</td><td>16.177159</td></tr>\n",
       "\t<tr><th scope=row>perimeter_worst</th><td>perimeter_worst     </td><td>14.657247</td></tr>\n",
       "\t<tr><th scope=row>radius_worst</th><td>radius_worst        </td><td>11.407071</td></tr>\n",
       "\t<tr><th scope=row>concave_points_mean</th><td>concave_points_mean </td><td>10.631768</td></tr>\n",
       "\t<tr><th scope=row>concavity_mean</th><td>concavity_mean      </td><td> 7.217816</td></tr>\n",
       "\t<tr><th scope=row>concavity_worst</th><td>concavity_worst     </td><td> 5.487470</td></tr>\n",
       "</tbody>\n",
       "</table>\n"
      ],
      "text/latex": [
       "A data.frame: 6 × 2\n",
       "\\begin{tabular}{r|ll}\n",
       "  & var & rel.inf\\\\\n",
       "  & <chr> & <dbl>\\\\\n",
       "\\hline\n",
       "\tconcave\\_points\\_worst & concave\\_points\\_worst & 16.177159\\\\\n",
       "\tperimeter\\_worst & perimeter\\_worst      & 14.657247\\\\\n",
       "\tradius\\_worst & radius\\_worst         & 11.407071\\\\\n",
       "\tconcave\\_points\\_mean & concave\\_points\\_mean  & 10.631768\\\\\n",
       "\tconcavity\\_mean & concavity\\_mean       &  7.217816\\\\\n",
       "\tconcavity\\_worst & concavity\\_worst      &  5.487470\\\\\n",
       "\\end{tabular}\n"
      ],
      "text/markdown": [
       "\n",
       "A data.frame: 6 × 2\n",
       "\n",
       "| <!--/--> | var &lt;chr&gt; | rel.inf &lt;dbl&gt; |\n",
       "|---|---|---|\n",
       "| concave_points_worst | concave_points_worst | 16.177159 |\n",
       "| perimeter_worst | perimeter_worst      | 14.657247 |\n",
       "| radius_worst | radius_worst         | 11.407071 |\n",
       "| concave_points_mean | concave_points_mean  | 10.631768 |\n",
       "| concavity_mean | concavity_mean       |  7.217816 |\n",
       "| concavity_worst | concavity_worst      |  5.487470 |\n",
       "\n"
      ],
      "text/plain": [
       "                     var                  rel.inf  \n",
       "concave_points_worst concave_points_worst 16.177159\n",
       "perimeter_worst      perimeter_worst      14.657247\n",
       "radius_worst         radius_worst         11.407071\n",
       "concave_points_mean  concave_points_mean  10.631768\n",
       "concavity_mean       concavity_mean        7.217816\n",
       "concavity_worst      concavity_worst       5.487470"
      ]
     },
     "metadata": {},
     "output_type": "display_data"
    },
    {
     "data": {
      "image/png": "[encoded data removed]",
      "text/plain": [
       "plot without title"
      ]
     },
     "metadata": {
      "image/png": {
       "height": 420,
       "width": 420
      }
     },
     "output_type": "display_data"
    }
   ],
   "source": [
    "# Visualisation de l'importance des variables\n",
    "head(summary(gbm_model, n.trees = meilleur_iter, plotit = TRUE))"
   ]
  },
  {
   "cell_type": "markdown",
   "id": "fcfdaf37-7a5b-48dd-bce4-ca392bd3c923",
   "metadata": {},
   "source": [
    "Cette sortie nous aide à voir les variables explicatives qui ont une plus grande influence sur notre variable cible. Parmi elles on peut citer : 'concavity_worst', 'concavity_mean', 'concave_points_mean', 'radius_worst', 'perimeter_worst', 'concave_points_worst'. Et cela vérifie notre remarque sur les variables qui ont une forte corrélation avec notre variable cible."
   ]
  },
  {
   "cell_type": "markdown",
   "id": "a591638e-e127-4d6d-a6cf-6b4a5c3239f7",
   "metadata": {},
   "source": [
    "#### Modèle random forest"
   ]
  },
  {
   "cell_type": "code",
   "execution_count": 36,
   "id": "7eb93091-a0b3-4ff0-9e85-b1c137ffec4e",
   "metadata": {},
   "outputs": [
    {
     "name": "stderr",
     "output_type": "stream",
     "text": [
      "Installing package into 'C:/Users/ibrah/AppData/Local/R/win-library/4.3'\n",
      "(as 'lib' is unspecified)\n",
      "\n"
     ]
    },
    {
     "name": "stdout",
     "output_type": "stream",
     "text": [
      "package 'randomForest' successfully unpacked and MD5 sums checked\n",
      "\n",
      "The downloaded binary packages are in\n",
      "\tC:\\Users\\ibrah\\AppData\\Local\\Temp\\RtmpKACOjE\\downloaded_packages\n"
     ]
    },
    {
     "name": "stderr",
     "output_type": "stream",
     "text": [
      "Warning message:\n",
      "\"package 'randomForest' was built under R version 4.3.3\"\n",
      "randomForest 4.7-1.1\n",
      "\n",
      "Type rfNews() to see new features/changes/bug fixes.\n",
      "\n",
      "\n",
      "Attaching package: 'randomForest'\n",
      "\n",
      "\n",
      "The following object is masked from 'package:dplyr':\n",
      "\n",
      "    combine\n",
      "\n",
      "\n",
      "The following object is masked from 'package:ggplot2':\n",
      "\n",
      "    margin\n",
      "\n",
      "\n"
     ]
    }
   ],
   "source": [
    "install.packages(\"randomForest\")\n",
    "library(randomForest)"
   ]
  },
  {
   "cell_type": "code",
   "execution_count": 37,
   "id": "83e1b249-bc13-4735-8460-68cff9f6dfdb",
   "metadata": {
    "scrolled": true
   },
   "outputs": [],
   "source": [
    "# Entraînement du modèle Random Forest\n",
    "set.seed(1234)\n",
    "\n",
    "# Assurez-vous que la variable cible est un facteur\n",
    "train_data$diagnosis <- as.factor(train_data$diagnosis)\n",
    "\n",
    "# Définissons le contrôle de validation croisée\n",
    "control <- trainControl(method = \"cv\", number = 5) # 5-fold cross-validation\n",
    "\n",
    "# Définir la grille de paramètres\n",
    "tune_grid <- expand.grid(mtry = sqrt(ncol(train_data) - 1)) # Ajuster mtry selon vos besoins\n",
    "\n",
    "# Entraînement du modèle avec validation croisée\n",
    "rF_model <- train(diagnosis ~ ., data = train_data, method = \"rf\",\n",
    "                     trControl = control, tuneGrid = tune_grid,\n",
    "                     ntree = 1000, nodesize = 5)"
   ]
  },
  {
   "cell_type": "code",
   "execution_count": 38,
   "id": "beb4de01-04b6-49f6-961e-be5780a8903e",
   "metadata": {},
   "outputs": [],
   "source": [
    "# Prédictions du modèle Random Forest\n",
    "predict_rF <- predict(rF_model, newdata = test_data)"
   ]
  },
  {
   "cell_type": "markdown",
   "id": "5670008d-c5f9-49b1-939d-48401c586483",
   "metadata": {},
   "source": [
    "#### Modele SVM"
   ]
  },
  {
   "cell_type": "code",
   "execution_count": 39,
   "id": "47256ef1-f03a-417f-88ac-02ee862aa6cc",
   "metadata": {},
   "outputs": [
    {
     "name": "stderr",
     "output_type": "stream",
     "text": [
      "Warning message:\n",
      "\"package 'e1071' was built under R version 4.3.3\"\n"
     ]
    }
   ],
   "source": [
    "library(e1071)"
   ]
  },
  {
   "cell_type": "code",
   "execution_count": 40,
   "id": "2bbfe9fe-9391-4204-aca0-133826d73a54",
   "metadata": {},
   "outputs": [],
   "source": [
    "set.seed(1234)\n",
    "# Assurez-vous que la variable cible est un facteur\n",
    "train_data$diagnosis <- as.factor(train_data$diagnosis)\n",
    "# Entraînement du modèle SVM\n",
    "svm_model <- svm(diagnosis ~ ., data = train_data, kernel = \"radial\", cost = 10, gamma = 0.1)"
   ]
  },
  {
   "cell_type": "code",
   "execution_count": 41,
   "id": "bea36c7f-ccc2-4d34-829f-4488daeeac1b",
   "metadata": {},
   "outputs": [
    {
     "data": {
      "text/plain": [
       "\n",
       "Call:\n",
       "svm(formula = diagnosis ~ ., data = train_data, kernel = \"radial\", \n",
       "    cost = 10, gamma = 0.1)\n",
       "\n",
       "\n",
       "Parameters:\n",
       "   SVM-Type:  C-classification \n",
       " SVM-Kernel:  radial \n",
       "       cost:  10 \n",
       "\n",
       "Number of Support Vectors:  191\n",
       "\n",
       " ( 94 97 )\n",
       "\n",
       "\n",
       "Number of Classes:  2 \n",
       "\n",
       "Levels: \n",
       " 0 1\n",
       "\n",
       "\n"
      ]
     },
     "metadata": {},
     "output_type": "display_data"
    }
   ],
   "source": [
    "summary(svm_model)"
   ]
  },
  {
   "cell_type": "markdown",
   "id": "1510ea26-2905-4ff4-a2ab-53173b5fdd75",
   "metadata": {},
   "source": [
    "#### Modèle Bagging"
   ]
  },
  {
   "cell_type": "code",
   "execution_count": 42,
   "id": "2074cd1e-431b-4a10-8491-a9bddf33a2d6",
   "metadata": {},
   "outputs": [
    {
     "name": "stderr",
     "output_type": "stream",
     "text": [
      "Installing package into 'C:/Users/ibrah/AppData/Local/R/win-library/4.3'\n",
      "(as 'lib' is unspecified)\n",
      "\n"
     ]
    },
    {
     "name": "stdout",
     "output_type": "stream",
     "text": [
      "package 'earth' successfully unpacked and MD5 sums checked\n",
      "\n",
      "The downloaded binary packages are in\n",
      "\tC:\\Users\\ibrah\\AppData\\Local\\Temp\\RtmpKACOjE\\downloaded_packages\n"
     ]
    },
    {
     "name": "stderr",
     "output_type": "stream",
     "text": [
      "Warning message:\n",
      "\"package 'earth' was built under R version 4.3.3\"\n",
      "Loading required package: Formula\n",
      "\n",
      "Loading required package: plotmo\n",
      "\n",
      "Warning message:\n",
      "\"package 'plotmo' was built under R version 4.3.3\"\n",
      "Loading required package: plotrix\n",
      "\n"
     ]
    }
   ],
   "source": [
    "install.packages(\"earth\")\n",
    "library(earth)"
   ]
  },
  {
   "cell_type": "code",
   "execution_count": 43,
   "id": "2c0f83ba-4244-4883-a910-cf8c90b876a1",
   "metadata": {},
   "outputs": [],
   "source": [
    "# Fixer la graine pour la reproductibilité\n",
    "set.seed(1234)\n",
    "\n",
    "train_data$diagnosis <- as.factor(train_data$diagnosis)\n",
    "\n",
    "# Créons le modèle de bagging avec un arbre de décision de base\n",
    "bagging_model <- train(\n",
    "  diagnosis ~ ., data = train_data,\n",
    "  method = \"treebag\",  # Méthode de bagging avec des arbres de décision\n",
    "  trControl = trainControl(method = \"cv\", number = 5)  # Validation croisée à 5 plis\n",
    ")"
   ]
  },
  {
   "cell_type": "markdown",
   "id": "2ca39ccb-a604-4980-8476-0a8557ea4efb",
   "metadata": {},
   "source": [
    "## Résultats des analyses et validation des performances"
   ]
  },
  {
   "cell_type": "markdown",
   "id": "85c82177-ba02-4119-aee5-e45ce47569f8",
   "metadata": {},
   "source": [
    "#### Modèle gbm"
   ]
  },
  {
   "cell_type": "code",
   "execution_count": 45,
   "id": "f10923a7-1817-42a7-bee3-7045774b9d01",
   "metadata": {},
   "outputs": [],
   "source": [
    "# Prédictions sur l'ensemble de test pour le modèle GBM\n",
    "predict_GBM <- predict(gbm_model, newdata = test_data, n.trees = meilleur_iter, type = \"response\")\n",
    "class_GBM <- ifelse(predict_GBM > 0.5, 1, 0)"
   ]
  },
  {
   "cell_type": "code",
   "execution_count": 46,
   "id": "39b72255-5857-42ef-9a9f-e129b96d3535",
   "metadata": {},
   "outputs": [
    {
     "name": "stdout",
     "output_type": "stream",
     "text": [
      "Confusion Matrix and Statistics\n",
      "\n",
      "          Reference\n",
      "Prediction  0  1\n",
      "         0 70  0\n",
      "         1  5 39\n",
      "                                          \n",
      "               Accuracy : 0.9561          \n",
      "                 95% CI : (0.9006, 0.9856)\n",
      "    No Information Rate : 0.6579          \n",
      "    P-Value [Acc > NIR] : 1.136e-14       \n",
      "                                          \n",
      "                  Kappa : 0.9055          \n",
      "                                          \n",
      " Mcnemar's Test P-Value : 0.07364         \n",
      "                                          \n",
      "            Sensitivity : 0.9333          \n",
      "            Specificity : 1.0000          \n",
      "         Pos Pred Value : 1.0000          \n",
      "         Neg Pred Value : 0.8864          \n",
      "             Prevalence : 0.6579          \n",
      "         Detection Rate : 0.6140          \n",
      "   Detection Prevalence : 0.6140          \n",
      "      Balanced Accuracy : 0.9667          \n",
      "                                          \n",
      "       'Positive' Class : 0               \n",
      "                                          \n"
     ]
    }
   ],
   "source": [
    "# Création de la matrice de confusion du modèle\n",
    "conf_matrix_GBM <- confusionMatrix(as.factor(class_GBM), as.factor(test_data$diagnosis))\n",
    "print(conf_matrix_GBM)"
   ]
  },
  {
   "cell_type": "markdown",
   "id": "8d14b33d-bd79-4062-84f6-fe0a1df820d9",
   "metadata": {},
   "source": [
    "De part cette matrice de confusion on constate que le modèle a correctement identifié toutes les tumeurs Bénignes (70) des données test sans se tromper et a donc Zéro (0) tumeur Bénigne mal classée. Tandis que qu'il a mal classé 5 tumeurs Malignes en tumeurs Bénignes, et correctement identifié 39 tumeurs Malignes."
   ]
  },
  {
   "cell_type": "code",
   "execution_count": 47,
   "id": "c8dd5d1d-850b-421b-b8f4-7adce9eb5948",
   "metadata": {},
   "outputs": [],
   "source": [
    "# Extraction des métriques\n",
    "accuracy_GBM <- conf_matrix_GBM$overall['Accuracy']\n",
    "precision_GBM <- conf_matrix_GBM$byClass['Pos Pred Value']\n",
    "recall_GBM <- conf_matrix_GBM$byClass['Sensitivity']"
   ]
  },
  {
   "cell_type": "markdown",
   "id": "9ce0bb94-f07d-418c-bae2-d1965d99a3ad",
   "metadata": {},
   "source": [
    "#### Modèle randomForest"
   ]
  },
  {
   "cell_type": "code",
   "execution_count": 48,
   "id": "7f1fc8e5-7f09-4425-b8b2-597ccd0f0271",
   "metadata": {},
   "outputs": [],
   "source": [
    "# Prédictions du modèle Random Forest\n",
    "predict_rF <- predict(rF_model, newdata = test_data)"
   ]
  },
  {
   "cell_type": "code",
   "execution_count": 49,
   "id": "778e1764-dbde-4330-8963-975d2497871b",
   "metadata": {},
   "outputs": [
    {
     "name": "stdout",
     "output_type": "stream",
     "text": [
      "Confusion Matrix and Statistics\n",
      "\n",
      "          Reference\n",
      "Prediction  0  1\n",
      "         0 71  2\n",
      "         1  4 37\n",
      "                                         \n",
      "               Accuracy : 0.9474         \n",
      "                 95% CI : (0.889, 0.9804)\n",
      "    No Information Rate : 0.6579         \n",
      "    P-Value [Acc > NIR] : 1.095e-13      \n",
      "                                         \n",
      "                  Kappa : 0.8845         \n",
      "                                         \n",
      " Mcnemar's Test P-Value : 0.6831         \n",
      "                                         \n",
      "            Sensitivity : 0.9467         \n",
      "            Specificity : 0.9487         \n",
      "         Pos Pred Value : 0.9726         \n",
      "         Neg Pred Value : 0.9024         \n",
      "             Prevalence : 0.6579         \n",
      "         Detection Rate : 0.6228         \n",
      "   Detection Prevalence : 0.6404         \n",
      "      Balanced Accuracy : 0.9477         \n",
      "                                         \n",
      "       'Positive' Class : 0              \n",
      "                                         \n"
     ]
    }
   ],
   "source": [
    "# Matrice de confusion du modèle\n",
    "conf_matrix_rF <- confusionMatrix(as.factor(predict_rF), as.factor(test_data$diagnosis))\n",
    "print(conf_matrix_rF)"
   ]
  },
  {
   "cell_type": "markdown",
   "id": "ec90c6b9-e8a2-49f0-a7d1-26500bd248e1",
   "metadata": {},
   "source": [
    "On constate que le modèle a correctement identifié 71 tumeurs Bénignes et 37 tumeurs Malignes. Tandis que qu'il a mal classé 4 tumeurs Malignes en tumeurs Bénignes, et 2 tumeurs Bénignes en tumeurs Malignes."
   ]
  },
  {
   "cell_type": "code",
   "execution_count": 50,
   "id": "91147c78-7990-48a9-bc34-34795bebf1bf",
   "metadata": {},
   "outputs": [],
   "source": [
    "# Extraction des métriques de notre modèle\n",
    "accuracy_rF <- conf_matrix_rF$overall['Accuracy']\n",
    "precision_rF <- conf_matrix_rF$byClass['Pos Pred Value']\n",
    "recall_rF <- conf_matrix_rF$byClass['Sensitivity']"
   ]
  },
  {
   "cell_type": "markdown",
   "id": "ffe98b4b-bfd5-4995-b099-0d2b7a6fa758",
   "metadata": {},
   "source": [
    "#### Modèle SVM"
   ]
  },
  {
   "cell_type": "code",
   "execution_count": 51,
   "id": "64ec6b08-9cb9-4e82-96e3-8cb614581b1b",
   "metadata": {},
   "outputs": [],
   "source": [
    "# Prédictions du modèle SVM\n",
    "predict_svm <- predict(svm_model, newdata = test_data)"
   ]
  },
  {
   "cell_type": "code",
   "execution_count": 52,
   "id": "73e645f5-b7dc-4d28-94cd-3efa4b5a7be0",
   "metadata": {},
   "outputs": [
    {
     "name": "stdout",
     "output_type": "stream",
     "text": [
      "Confusion Matrix and Statistics\n",
      "\n",
      "          Reference\n",
      "Prediction  0  1\n",
      "         0 62  1\n",
      "         1 13 38\n",
      "                                          \n",
      "               Accuracy : 0.8772          \n",
      "                 95% CI : (0.8025, 0.9312)\n",
      "    No Information Rate : 0.6579          \n",
      "    P-Value [Acc > NIR] : 8.304e-08       \n",
      "                                          \n",
      "                  Kappa : 0.7459          \n",
      "                                          \n",
      " Mcnemar's Test P-Value : 0.003283        \n",
      "                                          \n",
      "            Sensitivity : 0.8267          \n",
      "            Specificity : 0.9744          \n",
      "         Pos Pred Value : 0.9841          \n",
      "         Neg Pred Value : 0.7451          \n",
      "             Prevalence : 0.6579          \n",
      "         Detection Rate : 0.5439          \n",
      "   Detection Prevalence : 0.5526          \n",
      "      Balanced Accuracy : 0.9005          \n",
      "                                          \n",
      "       'Positive' Class : 0               \n",
      "                                          \n"
     ]
    }
   ],
   "source": [
    "# Matrice de confusion du modèle\n",
    "conf_matrix_svm <- confusionMatrix(as.factor(predict_svm), as.factor(test_data$diagnosis))\n",
    "print(conf_matrix_svm)"
   ]
  },
  {
   "cell_type": "markdown",
   "id": "1e56b8f9-3524-4836-899c-1c3f270e3d09",
   "metadata": {},
   "source": [
    "De meme, d'après ce qu'on voit le modèle a correctement identifié 62 tumeurs Bénignes et 38 tumeurs Malignes. Tandis que qu'il a mal classé 13 tumeurs Malignes en tumeurs Bénignes, et 1 tumeurs Bénigne en tumeurs Maligne."
   ]
  },
  {
   "cell_type": "code",
   "execution_count": 53,
   "id": "8a5adab2-17cd-4e03-92da-c4d516f168e5",
   "metadata": {},
   "outputs": [],
   "source": [
    "# Extraction des métriques du modèle SVM\n",
    "accuracy_svm <- conf_matrix_svm$overall['Accuracy']\n",
    "precision_svm <- conf_matrix_svm$byClass['Pos Pred Value']\n",
    "recall_svm <- conf_matrix_svm$byClass['Sensitivity']"
   ]
  },
  {
   "cell_type": "markdown",
   "id": "7d523136-ab2d-4745-a37e-17a980047da3",
   "metadata": {},
   "source": [
    "#### Modèle Bagging (bootstrap)"
   ]
  },
  {
   "cell_type": "code",
   "execution_count": 54,
   "id": "efe96a4c-662b-4fc8-982e-1bf930654984",
   "metadata": {},
   "outputs": [],
   "source": [
    "# Prédictions du modèle de Bagging\n",
    "predict_bagging <- predict(bagging_model, newdata = test_data)"
   ]
  },
  {
   "cell_type": "code",
   "execution_count": 55,
   "id": "7151d696-661a-44c2-b2c5-c0eaf4fc4233",
   "metadata": {},
   "outputs": [
    {
     "name": "stdout",
     "output_type": "stream",
     "text": [
      "Confusion Matrix and Statistics\n",
      "\n",
      "          Reference\n",
      "Prediction  0  1\n",
      "         0 71  2\n",
      "         1  4 37\n",
      "                                         \n",
      "               Accuracy : 0.9474         \n",
      "                 95% CI : (0.889, 0.9804)\n",
      "    No Information Rate : 0.6579         \n",
      "    P-Value [Acc > NIR] : 1.095e-13      \n",
      "                                         \n",
      "                  Kappa : 0.8845         \n",
      "                                         \n",
      " Mcnemar's Test P-Value : 0.6831         \n",
      "                                         \n",
      "            Sensitivity : 0.9467         \n",
      "            Specificity : 0.9487         \n",
      "         Pos Pred Value : 0.9726         \n",
      "         Neg Pred Value : 0.9024         \n",
      "             Prevalence : 0.6579         \n",
      "         Detection Rate : 0.6228         \n",
      "   Detection Prevalence : 0.6404         \n",
      "      Balanced Accuracy : 0.9477         \n",
      "                                         \n",
      "       'Positive' Class : 0              \n",
      "                                         \n"
     ]
    }
   ],
   "source": [
    "# Matrice de confusion de notre modèle\n",
    "conf_matrix_bagging <- confusionMatrix(as.factor(predict_bagging), as.factor(test_data$diagnosis))\n",
    "print(conf_matrix_bagging)"
   ]
  },
  {
   "cell_type": "markdown",
   "id": "a409ac9d-16d9-4639-b1b7-6ffe6264be0d",
   "metadata": {},
   "source": [
    "On constate que le modèle a correctement identifié 71 tumeurs Bénignes et 37 tumeurs Malignes. Tandis que qu'il a mal classé 4 tumeurs Malignes en tumeurs Bénignes, et 2 tumeurs Bénignes en tumeurs Malignes."
   ]
  },
  {
   "cell_type": "code",
   "execution_count": 56,
   "id": "6f00aa88-171a-4b65-a7c2-8a0f8a8b3db3",
   "metadata": {},
   "outputs": [],
   "source": [
    "# Extraction des métriques de notre modèle\n",
    "accuracy_bagging <- conf_matrix_bagging$overall['Accuracy']\n",
    "precision_bagging <- conf_matrix_bagging$byClass['Pos Pred Value']\n",
    "recall_bagging <- conf_matrix_bagging$byClass['Sensitivity']"
   ]
  },
  {
   "cell_type": "code",
   "execution_count": 57,
   "id": "ef285c37-f4ce-410d-a04e-682506cc8832",
   "metadata": {},
   "outputs": [
    {
     "name": "stderr",
     "output_type": "stream",
     "text": [
      "Warning message:\n",
      "\"package 'gridExtra' was built under R version 4.3.3\"\n",
      "\n",
      "Attaching package: 'gridExtra'\n",
      "\n",
      "\n",
      "The following object is masked from 'package:randomForest':\n",
      "\n",
      "    combine\n",
      "\n",
      "\n",
      "The following object is masked from 'package:dplyr':\n",
      "\n",
      "    combine\n",
      "\n",
      "\n"
     ]
    }
   ],
   "source": [
    "# Chargeons la librairie qui nous permet de visualiser l'ensembles graphes en une grille\n",
    "library(gridExtra)"
   ]
  },
  {
   "cell_type": "markdown",
   "id": "f2730f49-5815-4551-b36a-4d5b12ac5de8",
   "metadata": {},
   "source": [
    "## Visualisation des métriques des modèles"
   ]
  },
  {
   "cell_type": "code",
   "execution_count": 58,
   "id": "ded0c344-16e5-4144-be00-8bf52b16a24f",
   "metadata": {},
   "outputs": [],
   "source": [
    "# Création du graphique à barres \n",
    "\n",
    "# Pour le modèle GBM\n",
    "metriques_GBM <- data.frame(\n",
    "  Metrique_GBM = c(\"Accuracy\", \"Precision\", \"Recall\"),\n",
    "  Valeur_GBM = c(accuracy_GBM, precision_GBM, recall_GBM)\n",
    ")\n",
    "\n",
    "# Pour le modèle randamForest\n",
    "metriques_rF <- data.frame(\n",
    "  Metrique_rF = c(\"Accuracy\", \"Precision\", \"Recall\"),\n",
    "  Valeur_rF = c(accuracy_rF, precision_rF, recall_rF)\n",
    ")\n",
    "\n",
    "# Pour le modèle Bagging\n",
    "metriques_bagging <- data.frame(\n",
    "  Metrique_bagging = c(\"Accuracy\", \"Precision\", \"Recall\"),\n",
    "  Valeur_bagging = c(accuracy_bagging, precision_bagging, recall_bagging)\n",
    ")\n",
    "\n",
    "# Pour le modèle SVM\n",
    "metriques_svm <- data.frame(\n",
    "  Metrique_svm = c(\"Accuracy\", \"Precision\", \"Recall\"),\n",
    "  Valeur_svm = c(accuracy_svm, precision_svm, recall_svm)\n",
    ")"
   ]
  },
  {
   "cell_type": "code",
   "execution_count": 59,
   "id": "34f9a0f3-8123-4d22-a560-e71e45a50cba",
   "metadata": {},
   "outputs": [
    {
     "data": {
      "image/png": "[encoded data removed]",
      "text/plain": [
       "plot without title"
      ]
     },
     "metadata": {
      "image/png": {
       "height": 420,
       "width": 420
      }
     },
     "output_type": "display_data"
    }
   ],
   "source": [
    "#png(\"graphes_recall_accuracy_.png\", width = 2000, height = 1000, res = 200)  # Taille et résolution pour la qualité de l'image\n",
    "\n",
    "# Graphe des métriques pour le modèle GBM\n",
    "plot_GBM <- ggplot(metriques_GBM, aes(x = Metrique_GBM, y = Valeur_GBM, fill = Metrique_GBM)) +\n",
    "  geom_bar(stat = \"identity\", width = 0.5) +\n",
    "  geom_text(aes(label = round(Valeur_GBM, 4)), vjust = -0.3, size = 5) +\n",
    "  scale_y_continuous(limits = c(0, 1)) +\n",
    "  labs(title = \"Performances du modèle GBM\", x = \"Métriques\", y = \"Valeur\") +\n",
    "  theme_minimal() +\n",
    "  theme(legend.position = \"none\")\n",
    "\n",
    "# Graphe des métriques pour le modèle randomForest\n",
    "plot_rF <- ggplot(metriques_rF, aes(x = Metrique_rF, y = Valeur_rF, fill = Metrique_rF)) +\n",
    "  geom_bar(stat = \"identity\", width = 0.5) +\n",
    "  geom_text(aes(label = round(Valeur_rF, 4)), vjust = -0.3, size = 5) +\n",
    "  scale_y_continuous(limits = c(0, 1)) +\n",
    "  labs(title = \"Performances du modèle randomForest\", x = \"Métriques\", y = \"Valeur\") +\n",
    "  theme_minimal() +\n",
    "  theme(legend.position = \"none\")\n",
    "\n",
    "# Graphe des métriques pour le modèle SVM\n",
    "plot_svm <- ggplot(metriques_svm, aes(x = Metrique_svm, y = Valeur_svm, fill = Metrique_svm)) +\n",
    "  geom_bar(stat = \"identity\", width = 0.5) +\n",
    "  geom_text(aes(label = round(Valeur_svm, 4)), vjust = -0.3, size = 5) +\n",
    "  scale_y_continuous(limits = c(0, 1)) +\n",
    "  labs(title = \"Performances du modèle SVM\", x = \"Métriques\", y = \"Valeur\") +\n",
    "  theme_minimal() +\n",
    "  theme(legend.position = \"none\")\n",
    "\n",
    "# Graphe des métriques pour le modèle Bagging\n",
    "plot_Bagging <- ggplot(metriques_bagging, aes(x = Metrique_bagging, y = Valeur_bagging, fill = Metrique_bagging)) +\n",
    "  geom_bar(stat = \"identity\", width = 0.5) +\n",
    "  geom_text(aes(label = round(Valeur_bagging, 4)), vjust = -0.3, size = 5) +\n",
    "  scale_y_continuous(limits = c(0, 1)) +\n",
    "  labs(title = \"Performances du modèle Bagging\", x = \"Métriques\", y = \"Valeur\") +\n",
    "  theme_minimal() +\n",
    "  theme(legend.position = \"none\")\n",
    "\n",
    "# Créns une matrice 2x2 de graphiques pour afficher les métriques de nos 4 modèles\n",
    "combined_plots <- grid.arrange(plot_GBM, plot_rF, plot_svm, plot_Bagging, nrow = 2, ncol = 2)\n",
    "\n",
    "\n",
    "#dev.off()"
   ]
  },
  {
   "cell_type": "markdown",
   "id": "960bfd97-b02f-49c9-8943-476b19faf716",
   "metadata": {},
   "source": [
    "Le modèle GBM se distingue par sa précision globale ($accuracy$) élévée ($95,61%$) et sa $précision$ de $100%$ ce qui veut dire qu'il fait aucune erreur lorsqu'il s'agit d'identifier une tumeur Maligne (\"1\"). Par contre, son $recall$ de $93,33%$ prouve qu'ilen manque quelques unes. Les modèles randomForest et Bagging, avec des métriques très similaires, sont presque aussi précis ($accuracy = 94,74%$), et détectent un peu mieux les tumeurs Malignes ($recall = 94,67%$) que le modèle GBM. Ce peut les rendre plus fiables lorsqu'il s'agit de détecter de faux négatifs. Lemodèle SVM, quant à lui, est le moins performant des quatres modèles. Meme avec une bonne $précision$ ($98,41%$), le modèle a plus de cas manqués. Ce qui fait de lui le modèle qui occupe la dernière place de de notre classement (sur ce jeu de données bien sùr)."
   ]
  },
  {
   "cell_type": "markdown",
   "id": "3212a17d-d645-4612-b035-42062917492f",
   "metadata": {},
   "source": [
    "## Amélioration du modèle GBM"
   ]
  },
  {
   "cell_type": "markdown",
   "id": "16382671-6d36-4b87-addd-8c3bd1a9dfd8",
   "metadata": {},
   "source": [
    "#### Optimisation des hyperparamètres"
   ]
  },
  {
   "cell_type": "code",
   "execution_count": 60,
   "id": "b91bd282-4ac2-4673-a0a0-a77301d8e1ba",
   "metadata": {},
   "outputs": [
    {
     "data": {
      "text/html": [
       "<table class=\"dataframe\">\n",
       "<caption>A data.frame: 45 × 3</caption>\n",
       "<thead>\n",
       "\t<tr><th scope=col>n.trees</th><th scope=col>interaction.depth</th><th scope=col>shrinkage</th></tr>\n",
       "\t<tr><th scope=col>&lt;dbl&gt;</th><th scope=col>&lt;dbl&gt;</th><th scope=col>&lt;dbl&gt;</th></tr>\n",
       "</thead>\n",
       "<tbody>\n",
       "\t<tr><td> 100</td><td>1</td><td>0.001</td></tr>\n",
       "\t<tr><td> 600</td><td>1</td><td>0.001</td></tr>\n",
       "\t<tr><td>1100</td><td>1</td><td>0.001</td></tr>\n",
       "\t<tr><td> 100</td><td>2</td><td>0.001</td></tr>\n",
       "\t<tr><td> 600</td><td>2</td><td>0.001</td></tr>\n",
       "\t<tr><td>1100</td><td>2</td><td>0.001</td></tr>\n",
       "\t<tr><td> 100</td><td>3</td><td>0.001</td></tr>\n",
       "\t<tr><td> 600</td><td>3</td><td>0.001</td></tr>\n",
       "\t<tr><td>1100</td><td>3</td><td>0.001</td></tr>\n",
       "\t<tr><td> 100</td><td>4</td><td>0.001</td></tr>\n",
       "\t<tr><td> 600</td><td>4</td><td>0.001</td></tr>\n",
       "\t<tr><td>1100</td><td>4</td><td>0.001</td></tr>\n",
       "\t<tr><td> 100</td><td>5</td><td>0.001</td></tr>\n",
       "\t<tr><td> 600</td><td>5</td><td>0.001</td></tr>\n",
       "\t<tr><td>1100</td><td>5</td><td>0.001</td></tr>\n",
       "\t<tr><td> 100</td><td>1</td><td>0.010</td></tr>\n",
       "\t<tr><td> 600</td><td>1</td><td>0.010</td></tr>\n",
       "\t<tr><td>1100</td><td>1</td><td>0.010</td></tr>\n",
       "\t<tr><td> 100</td><td>2</td><td>0.010</td></tr>\n",
       "\t<tr><td> 600</td><td>2</td><td>0.010</td></tr>\n",
       "\t<tr><td>1100</td><td>2</td><td>0.010</td></tr>\n",
       "\t<tr><td> 100</td><td>3</td><td>0.010</td></tr>\n",
       "\t<tr><td> 600</td><td>3</td><td>0.010</td></tr>\n",
       "\t<tr><td>1100</td><td>3</td><td>0.010</td></tr>\n",
       "\t<tr><td> 100</td><td>4</td><td>0.010</td></tr>\n",
       "\t<tr><td> 600</td><td>4</td><td>0.010</td></tr>\n",
       "\t<tr><td>1100</td><td>4</td><td>0.010</td></tr>\n",
       "\t<tr><td> 100</td><td>5</td><td>0.010</td></tr>\n",
       "\t<tr><td> 600</td><td>5</td><td>0.010</td></tr>\n",
       "\t<tr><td>1100</td><td>5</td><td>0.010</td></tr>\n",
       "\t<tr><td> 100</td><td>1</td><td>0.100</td></tr>\n",
       "\t<tr><td> 600</td><td>1</td><td>0.100</td></tr>\n",
       "\t<tr><td>1100</td><td>1</td><td>0.100</td></tr>\n",
       "\t<tr><td> 100</td><td>2</td><td>0.100</td></tr>\n",
       "\t<tr><td> 600</td><td>2</td><td>0.100</td></tr>\n",
       "\t<tr><td>1100</td><td>2</td><td>0.100</td></tr>\n",
       "\t<tr><td> 100</td><td>3</td><td>0.100</td></tr>\n",
       "\t<tr><td> 600</td><td>3</td><td>0.100</td></tr>\n",
       "\t<tr><td>1100</td><td>3</td><td>0.100</td></tr>\n",
       "\t<tr><td> 100</td><td>4</td><td>0.100</td></tr>\n",
       "\t<tr><td> 600</td><td>4</td><td>0.100</td></tr>\n",
       "\t<tr><td>1100</td><td>4</td><td>0.100</td></tr>\n",
       "\t<tr><td> 100</td><td>5</td><td>0.100</td></tr>\n",
       "\t<tr><td> 600</td><td>5</td><td>0.100</td></tr>\n",
       "\t<tr><td>1100</td><td>5</td><td>0.100</td></tr>\n",
       "</tbody>\n",
       "</table>\n"
      ],
      "text/latex": [
       "A data.frame: 45 × 3\n",
       "\\begin{tabular}{lll}\n",
       " n.trees & interaction.depth & shrinkage\\\\\n",
       " <dbl> & <dbl> & <dbl>\\\\\n",
       "\\hline\n",
       "\t  100 & 1 & 0.001\\\\\n",
       "\t  600 & 1 & 0.001\\\\\n",
       "\t 1100 & 1 & 0.001\\\\\n",
       "\t  100 & 2 & 0.001\\\\\n",
       "\t  600 & 2 & 0.001\\\\\n",
       "\t 1100 & 2 & 0.001\\\\\n",
       "\t  100 & 3 & 0.001\\\\\n",
       "\t  600 & 3 & 0.001\\\\\n",
       "\t 1100 & 3 & 0.001\\\\\n",
       "\t  100 & 4 & 0.001\\\\\n",
       "\t  600 & 4 & 0.001\\\\\n",
       "\t 1100 & 4 & 0.001\\\\\n",
       "\t  100 & 5 & 0.001\\\\\n",
       "\t  600 & 5 & 0.001\\\\\n",
       "\t 1100 & 5 & 0.001\\\\\n",
       "\t  100 & 1 & 0.010\\\\\n",
       "\t  600 & 1 & 0.010\\\\\n",
       "\t 1100 & 1 & 0.010\\\\\n",
       "\t  100 & 2 & 0.010\\\\\n",
       "\t  600 & 2 & 0.010\\\\\n",
       "\t 1100 & 2 & 0.010\\\\\n",
       "\t  100 & 3 & 0.010\\\\\n",
       "\t  600 & 3 & 0.010\\\\\n",
       "\t 1100 & 3 & 0.010\\\\\n",
       "\t  100 & 4 & 0.010\\\\\n",
       "\t  600 & 4 & 0.010\\\\\n",
       "\t 1100 & 4 & 0.010\\\\\n",
       "\t  100 & 5 & 0.010\\\\\n",
       "\t  600 & 5 & 0.010\\\\\n",
       "\t 1100 & 5 & 0.010\\\\\n",
       "\t  100 & 1 & 0.100\\\\\n",
       "\t  600 & 1 & 0.100\\\\\n",
       "\t 1100 & 1 & 0.100\\\\\n",
       "\t  100 & 2 & 0.100\\\\\n",
       "\t  600 & 2 & 0.100\\\\\n",
       "\t 1100 & 2 & 0.100\\\\\n",
       "\t  100 & 3 & 0.100\\\\\n",
       "\t  600 & 3 & 0.100\\\\\n",
       "\t 1100 & 3 & 0.100\\\\\n",
       "\t  100 & 4 & 0.100\\\\\n",
       "\t  600 & 4 & 0.100\\\\\n",
       "\t 1100 & 4 & 0.100\\\\\n",
       "\t  100 & 5 & 0.100\\\\\n",
       "\t  600 & 5 & 0.100\\\\\n",
       "\t 1100 & 5 & 0.100\\\\\n",
       "\\end{tabular}\n"
      ],
      "text/markdown": [
       "\n",
       "A data.frame: 45 × 3\n",
       "\n",
       "| n.trees &lt;dbl&gt; | interaction.depth &lt;dbl&gt; | shrinkage &lt;dbl&gt; |\n",
       "|---|---|---|\n",
       "|  100 | 1 | 0.001 |\n",
       "|  600 | 1 | 0.001 |\n",
       "| 1100 | 1 | 0.001 |\n",
       "|  100 | 2 | 0.001 |\n",
       "|  600 | 2 | 0.001 |\n",
       "| 1100 | 2 | 0.001 |\n",
       "|  100 | 3 | 0.001 |\n",
       "|  600 | 3 | 0.001 |\n",
       "| 1100 | 3 | 0.001 |\n",
       "|  100 | 4 | 0.001 |\n",
       "|  600 | 4 | 0.001 |\n",
       "| 1100 | 4 | 0.001 |\n",
       "|  100 | 5 | 0.001 |\n",
       "|  600 | 5 | 0.001 |\n",
       "| 1100 | 5 | 0.001 |\n",
       "|  100 | 1 | 0.010 |\n",
       "|  600 | 1 | 0.010 |\n",
       "| 1100 | 1 | 0.010 |\n",
       "|  100 | 2 | 0.010 |\n",
       "|  600 | 2 | 0.010 |\n",
       "| 1100 | 2 | 0.010 |\n",
       "|  100 | 3 | 0.010 |\n",
       "|  600 | 3 | 0.010 |\n",
       "| 1100 | 3 | 0.010 |\n",
       "|  100 | 4 | 0.010 |\n",
       "|  600 | 4 | 0.010 |\n",
       "| 1100 | 4 | 0.010 |\n",
       "|  100 | 5 | 0.010 |\n",
       "|  600 | 5 | 0.010 |\n",
       "| 1100 | 5 | 0.010 |\n",
       "|  100 | 1 | 0.100 |\n",
       "|  600 | 1 | 0.100 |\n",
       "| 1100 | 1 | 0.100 |\n",
       "|  100 | 2 | 0.100 |\n",
       "|  600 | 2 | 0.100 |\n",
       "| 1100 | 2 | 0.100 |\n",
       "|  100 | 3 | 0.100 |\n",
       "|  600 | 3 | 0.100 |\n",
       "| 1100 | 3 | 0.100 |\n",
       "|  100 | 4 | 0.100 |\n",
       "|  600 | 4 | 0.100 |\n",
       "| 1100 | 4 | 0.100 |\n",
       "|  100 | 5 | 0.100 |\n",
       "|  600 | 5 | 0.100 |\n",
       "| 1100 | 5 | 0.100 |\n",
       "\n"
      ],
      "text/plain": [
       "   n.trees interaction.depth shrinkage\n",
       "1   100    1                 0.001    \n",
       "2   600    1                 0.001    \n",
       "3  1100    1                 0.001    \n",
       "4   100    2                 0.001    \n",
       "5   600    2                 0.001    \n",
       "6  1100    2                 0.001    \n",
       "7   100    3                 0.001    \n",
       "8   600    3                 0.001    \n",
       "9  1100    3                 0.001    \n",
       "10  100    4                 0.001    \n",
       "11  600    4                 0.001    \n",
       "12 1100    4                 0.001    \n",
       "13  100    5                 0.001    \n",
       "14  600    5                 0.001    \n",
       "15 1100    5                 0.001    \n",
       "16  100    1                 0.010    \n",
       "17  600    1                 0.010    \n",
       "18 1100    1                 0.010    \n",
       "19  100    2                 0.010    \n",
       "20  600    2                 0.010    \n",
       "21 1100    2                 0.010    \n",
       "22  100    3                 0.010    \n",
       "23  600    3                 0.010    \n",
       "24 1100    3                 0.010    \n",
       "25  100    4                 0.010    \n",
       "26  600    4                 0.010    \n",
       "27 1100    4                 0.010    \n",
       "28  100    5                 0.010    \n",
       "29  600    5                 0.010    \n",
       "30 1100    5                 0.010    \n",
       "31  100    1                 0.100    \n",
       "32  600    1                 0.100    \n",
       "33 1100    1                 0.100    \n",
       "34  100    2                 0.100    \n",
       "35  600    2                 0.100    \n",
       "36 1100    2                 0.100    \n",
       "37  100    3                 0.100    \n",
       "38  600    3                 0.100    \n",
       "39 1100    3                 0.100    \n",
       "40  100    4                 0.100    \n",
       "41  600    4                 0.100    \n",
       "42 1100    4                 0.100    \n",
       "43  100    5                 0.100    \n",
       "44  600    5                 0.100    \n",
       "45 1100    5                 0.100    "
      ]
     },
     "metadata": {},
     "output_type": "display_data"
    }
   ],
   "source": [
    "# Grille de paramètres pour la recherche des meillurs hyperparamètres pour notre modèle\n",
    "grid <- expand.grid(\n",
    "  n.trees = seq(100, 1500, by = 500),\n",
    "  interaction.depth = seq(1, 5, by = 1),\n",
    "  shrinkage = c(0.001, 0.01, 0.1)\n",
    ")\n",
    "grid"
   ]
  },
  {
   "cell_type": "code",
   "execution_count": 61,
   "id": "aaf0c034-e8fb-4812-90d5-57a845ea6f06",
   "metadata": {},
   "outputs": [],
   "source": [
    "set.seed(1234)\n",
    "\n",
    "train_data$diagnosis <- as.factor(train_data$diagnosis)\n",
    "test_data$diagnosis <- as.factor(test_data$diagnosis)\n",
    "\n",
    "train_data$diagnosis <- as.numeric(train_data$diagnosis) - 1\n",
    "test_data$diagnosis<- as.numeric(test_data$diagnosis) - 1\n",
    "\n",
    "# Effectuons la recherche sur grille avec la technique de la validation croisée\n",
    "results <- list()\n",
    "for (i in 1:nrow(grid)) {\n",
    "  model <- gbm(\n",
    "    formula = diagnosis ~ .,\n",
    "    data = train_data,\n",
    "    distribution = \"bernoulli\",\n",
    "    n.trees = grid$n.trees[i],\n",
    "    interaction.depth = grid$interaction.depth[i],\n",
    "    shrinkage = grid$shrinkage[i],\n",
    "    bag.fraction = 0.5,\n",
    "    cv.folds = 5,\n",
    "    n.cores = NULL,\n",
    "    verbose = FALSE\n",
    "  )\n",
    "  best_iter <- gbm.perf(model, method = \"cv\", plot.it = FALSE)\n",
    "    # Ici on va stocker les résultats : hyperparamètres et itération optimale\n",
    "  results <- rbind(results, c(grid[i, ], best_iter = best_iter))\n",
    "}\n",
    "\n",
    "# Pour la conversion en data frame pour manipulation plus aisée on obtient :\n",
    "results <- as.data.frame(results)"
   ]
  },
  {
   "cell_type": "code",
   "execution_count": 62,
   "id": "10a6cc87-5fb3-4064-a2e2-5b420f2f96bf",
   "metadata": {},
   "outputs": [
    {
     "name": "stdout",
     "output_type": "stream",
     "text": [
      "   n.trees interaction.depth shrinkage best_iter\n",
      "45    1100                 5       0.1        47\n"
     ]
    }
   ],
   "source": [
    "# Ce code nous aide à trouver la combinaison avec la meilleure (plus petite) itération à partir de notre boucle \"for\"\n",
    "bon_model <- results[which.min(results$best_iter), ]\n",
    "print(bon_model)"
   ]
  },
  {
   "cell_type": "markdown",
   "id": "ddc81290-a2e0-4195-a974-014d4fd191e9",
   "metadata": {},
   "source": [
    "#### Régularisation du modèle gbm"
   ]
  },
  {
   "cell_type": "markdown",
   "id": "427cd29d-9916-44da-8dce-0ca1be365ced",
   "metadata": {},
   "source": [
    "Après avoir trouvé de bons paramètres (pas uniquement les seuls meilleurs), on va ainsi essayer de régulariser notre modèle en l'injectant les paramètres qu'on a pu obtenir de notre recherche sur grille."
   ]
  },
  {
   "cell_type": "code",
   "execution_count": 63,
   "id": "f4562920-6295-4077-9267-ff2fe7b3e3d8",
   "metadata": {},
   "outputs": [],
   "source": [
    "# Entrainement du modèle\n",
    "\n",
    "set.seed(1234)\n",
    "# Convertissons les hyperparamètres en numeric\n",
    "bon_model$n.trees <- as.numeric(bon_model$n.trees)\n",
    "bon_model$interaction.depth  <- as.numeric(bon_model$interaction.depth)\n",
    "bon_model$shrinkage  <- as.numeric(bon_model$shrinkage)\n",
    "\n",
    "\n",
    "# Au lieu de réécrire les chiffres tels que afficher en haut, on va plutot utiliser les variable de notre dataframe qu'on a mis en \"numeric\"\n",
    "# et va directement les injecter dans l'entrainement de notre modèle.\n",
    "meilleur_model_GBM <- gbm(\n",
    "  formula = diagnosis ~ .,\n",
    "  data = train_data,\n",
    "  distribution = \"bernoulli\",\n",
    "  n.trees = bon_model$n.trees,\n",
    "  interaction.depth = bon_model$interaction.depth,\n",
    "  shrinkage = bon_model$shrinkage,\n",
    "  bag.fraction = 0.81,\n",
    "  cv.folds = 5,\n",
    "  n.cores = NULL,\n",
    "  verbose = FALSE\n",
    ")"
   ]
  },
  {
   "cell_type": "code",
   "execution_count": 64,
   "id": "6718070c-60b8-4add-bb4c-f58e9fca0b2c",
   "metadata": {},
   "outputs": [
    {
     "name": "stdout",
     "output_type": "stream",
     "text": [
      "[1] \"Meilleur nombre d'arbres: 63\"\n"
     ]
    },
    {
     "data": {
      "image/png": "[encoded data removed]",
      "text/plain": [
       "plot without title"
      ]
     },
     "metadata": {
      "image/png": {
       "height": 420,
       "width": 420
      }
     },
     "output_type": "display_data"
    }
   ],
   "source": [
    "# Après on sélectionne le meilleur nombre d'arbres pour optimiser notre modèle\n",
    "meilleur_iter2 <- gbm.perf(meilleur_model_GBM, method = \"cv\")\n",
    "print(paste(\"Meilleur nombre d'arbres:\", meilleur_iter2))"
   ]
  },
  {
   "cell_type": "markdown",
   "id": "e9f2967b-6494-473b-9a3d-b160d19553a2",
   "metadata": {},
   "source": [
    "Pour pousser notre recherche sur l'efficacité de notre modèle gradient boosting nous allons essayer de le comparer au modèle XGBoost qui est une version améliorée du boosting lui-meme."
   ]
  },
  {
   "cell_type": "markdown",
   "id": "0ec3197a-7851-4467-9837-bb44188267c7",
   "metadata": {},
   "source": [
    "#### Modèle xgboost"
   ]
  },
  {
   "cell_type": "code",
   "execution_count": 65,
   "id": "2f1df3de-5e09-435a-9d80-f0348dbfa540",
   "metadata": {},
   "outputs": [
    {
     "name": "stderr",
     "output_type": "stream",
     "text": [
      "Warning message:\n",
      "\"package 'xgboost' is in use and will not be installed\"\n"
     ]
    }
   ],
   "source": [
    "#On charge le package qui nous permet d'entrainer notre modèle XGBoost\n",
    "install.packages(\"xgboost\")\n",
    "library(xgboost)"
   ]
  },
  {
   "cell_type": "code",
   "execution_count": 66,
   "id": "423a3499-aa1f-4683-baa1-d1082efb8a9f",
   "metadata": {},
   "outputs": [],
   "source": [
    "set.seed(1234)\n",
    "\n",
    "train_data$diagnosis <- as.factor(train_data$diagnosis)\n",
    "test_data$diagnosis <- as.factor(test_data$diagnosis)\n",
    "\n",
    "# Convertir le facteur en numérique 0 et 1 (Vérifiez que les valeurs sont 0 et 1)\n",
    "train_data$diagnosis <- as.numeric(train_data$diagnosis) - 1\n",
    "test_data$diagnosis <- as.numeric(test_data$diagnosis) - 1\n",
    "\n",
    "\n",
    "# Séparons les variables explicatives et la cible\n",
    "train_x <- as.matrix(train_data[, setdiff(names(train_data), \"diagnosis\")])\n",
    "train_y <- train_data$diagnosis\n",
    "test_x <- as.matrix(test_data[, setdiff(names(test_data), \"diagnosis\")])\n",
    "test_y <- test_data$diagnosis"
   ]
  },
  {
   "cell_type": "code",
   "execution_count": 67,
   "id": "82aecc0f-90db-4444-9afb-d679e7eb789e",
   "metadata": {},
   "outputs": [],
   "source": [
    "# Puis nous créons sa matrice de données DMatrix\n",
    "dtrain <- xgb.DMatrix(data = train_x, label = train_y)\n",
    "dtest <- xgb.DMatrix(data = test_x, label = test_y)"
   ]
  },
  {
   "cell_type": "code",
   "execution_count": 68,
   "id": "ebafbd96-962a-479e-93f4-d49b4474b9cc",
   "metadata": {},
   "outputs": [],
   "source": [
    "# Paramètres du modèle XGBoost\n",
    "params <- list(\n",
    "  objective = \"binary:logistic\",  # Pour une classification binaire\n",
    "  eval_metric = \"logloss\",         # Métrique d'évaluation\n",
    "  max_depth = 4,                   # Profondeur des arbres\n",
    "  eta = 0.01,                      # Taux d'apprentissage\n",
    "  subsample = 0.1                  # Taux de sous-échantillonnage\n",
    ")\n"
   ]
  },
  {
   "cell_type": "code",
   "execution_count": 69,
   "id": "de6e6276-e8a5-4b03-99d0-0ed1b49be9bf",
   "metadata": {},
   "outputs": [],
   "source": [
    "# Maintenat entraînons notre modèle XGBoost\n",
    "xgboost_model <- xgb.train(\n",
    "  params = params,\n",
    "  data = dtrain,\n",
    "  nrounds = 1500,  # Le nombre d'arbres\n",
    "  watchlist = list(train = dtrain, eval = dtest),  # Liste de surveillance pour validation\n",
    "  verbose = 0  # Cette fois-ci pas de sortie verbosité\n",
    ")"
   ]
  },
  {
   "cell_type": "markdown",
   "id": "372b72db-d6b8-4137-8b07-c89a58232ee0",
   "metadata": {},
   "source": [
    "## Résultats et validation des performance"
   ]
  },
  {
   "cell_type": "markdown",
   "id": "53c0b501-7935-4596-8c67-48acfb023e43",
   "metadata": {},
   "source": [
    "#### Modèle gbm"
   ]
  },
  {
   "cell_type": "code",
   "execution_count": 70,
   "id": "c93006a6-f458-4ce9-b8b8-4e450daa8b81",
   "metadata": {},
   "outputs": [],
   "source": [
    "# Prédictions sur l'ensemble de test pour le modèle GBM amélioré\n",
    "predict_GBM2 <- predict(meilleur_model_GBM, newdata = test_data, n.trees = meilleur_iter2, type = \"response\")\n",
    "class_GBM2 <- ifelse(predict_GBM2 > 0.5, 1, 0)"
   ]
  },
  {
   "cell_type": "code",
   "execution_count": 71,
   "id": "da8cf3dd-5436-458a-b59a-0209647aee5b",
   "metadata": {},
   "outputs": [
    {
     "name": "stdout",
     "output_type": "stream",
     "text": [
      "Confusion Matrix and Statistics\n",
      "\n",
      "          Reference\n",
      "Prediction  0  1\n",
      "         0 72  2\n",
      "         1  3 37\n",
      "                                          \n",
      "               Accuracy : 0.9561          \n",
      "                 95% CI : (0.9006, 0.9856)\n",
      "    No Information Rate : 0.6579          \n",
      "    P-Value [Acc > NIR] : 1.136e-14       \n",
      "                                          \n",
      "                  Kappa : 0.9032          \n",
      "                                          \n",
      " Mcnemar's Test P-Value : 1               \n",
      "                                          \n",
      "            Sensitivity : 0.9600          \n",
      "            Specificity : 0.9487          \n",
      "         Pos Pred Value : 0.9730          \n",
      "         Neg Pred Value : 0.9250          \n",
      "             Prevalence : 0.6579          \n",
      "         Detection Rate : 0.6316          \n",
      "   Detection Prevalence : 0.6491          \n",
      "      Balanced Accuracy : 0.9544          \n",
      "                                          \n",
      "       'Positive' Class : 0               \n",
      "                                          \n"
     ]
    }
   ],
   "source": [
    "# Création de la matrice de confusion du modèle\n",
    "conf_matrix_GBM2 <- confusionMatrix(as.factor(class_GBM2), as.factor(test_data$diagnosis))\n",
    "print(conf_matrix_GBM2)"
   ]
  },
  {
   "cell_type": "markdown",
   "id": "265c925b-8b77-4c56-9cd9-79a4ff6ad11f",
   "metadata": {},
   "source": [
    "On constate alors meme après amélioration des hyperparamètres la précision du modèle ne change pas considérablement, ce qui peu etre dù du nombre de données de test ou encore que le modèle ne peut plus dépasser cette performance."
   ]
  },
  {
   "cell_type": "code",
   "execution_count": 72,
   "id": "a3b29d62-897f-475b-9579-26d089c967f9",
   "metadata": {},
   "outputs": [],
   "source": [
    "# Extraction des métriques du modèle GBM amélioré\n",
    "accuracy_GBM2 <- conf_matrix_GBM2$overall['Accuracy']\n",
    "precision_GBM2 <- conf_matrix_GBM2$byClass['Pos Pred Value']\n",
    "recall_GBM2 <- conf_matrix_GBM2$byClass['Sensitivity']"
   ]
  },
  {
   "cell_type": "markdown",
   "id": "89ad6c61-eb7a-4df7-975c-e8b36a55b7fc",
   "metadata": {},
   "source": [
    "#### Modèle xgboost"
   ]
  },
  {
   "cell_type": "code",
   "execution_count": 73,
   "id": "cc0ae982-877a-4a6c-a886-dde60c87d2b2",
   "metadata": {},
   "outputs": [],
   "source": [
    "# Prédictions sur les données de test\n",
    "predict_xgboost <- predict(xgboost_model, newdata = dtest)\n",
    "class_xgboost <- ifelse(predict_xgboost > 0.5, 1, 0)\n",
    "test_y_factor <- factor(test_y, levels = c(0, 1))"
   ]
  },
  {
   "cell_type": "code",
   "execution_count": 74,
   "id": "61ce59d9-bb50-4245-b55a-140cdc0cc2d8",
   "metadata": {},
   "outputs": [
    {
     "name": "stdout",
     "output_type": "stream",
     "text": [
      "Confusion Matrix and Statistics\n",
      "\n",
      "          Reference\n",
      "Prediction  0  1\n",
      "         0 73  2\n",
      "         1  2 37\n",
      "                                          \n",
      "               Accuracy : 0.9649          \n",
      "                 95% CI : (0.9126, 0.9904)\n",
      "    No Information Rate : 0.6579          \n",
      "    P-Value [Acc > NIR] : 9.744e-16       \n",
      "                                          \n",
      "                  Kappa : 0.9221          \n",
      "                                          \n",
      " Mcnemar's Test P-Value : 1               \n",
      "                                          \n",
      "            Sensitivity : 0.9733          \n",
      "            Specificity : 0.9487          \n",
      "         Pos Pred Value : 0.9733          \n",
      "         Neg Pred Value : 0.9487          \n",
      "             Prevalence : 0.6579          \n",
      "         Detection Rate : 0.6404          \n",
      "   Detection Prevalence : 0.6579          \n",
      "      Balanced Accuracy : 0.9610          \n",
      "                                          \n",
      "       'Positive' Class : 0               \n",
      "                                          \n"
     ]
    }
   ],
   "source": [
    "# Créons la matrice de confusion du modèle XGBoost\n",
    "conf_matrix_xgboost <- confusionMatrix(factor(class_xgboost, levels = c(0, 1)), test_y_factor)\n",
    "print(conf_matrix_xgboost)"
   ]
  },
  {
   "cell_type": "code",
   "execution_count": 75,
   "id": "d27828b3-51e2-4420-bc98-9658e39cbde5",
   "metadata": {},
   "outputs": [],
   "source": [
    "# Extraction des métriques du modèle XGBoost\n",
    "accuracy_xgboost <- conf_matrix_xgboost$overall['Accuracy']\n",
    "precision_xgboost <- conf_matrix_xgboost$byClass['Pos Pred Value']\n",
    "recall_xgboost <- conf_matrix_xgboost$byClass['Sensitivity']"
   ]
  },
  {
   "cell_type": "markdown",
   "id": "897a8463-d8ba-44c7-9867-ab8ece34e9c7",
   "metadata": {},
   "source": [
    "#### Visualisation des précisions"
   ]
  },
  {
   "cell_type": "code",
   "execution_count": 76,
   "id": "039ec5a8-de34-4150-b40b-85c0e4d43cbe",
   "metadata": {},
   "outputs": [],
   "source": [
    "\n",
    "# Les métriques du modèle XGBoost\n",
    "metriques_xgboost <- data.frame(\n",
    "  Metrique_xgboost = c(\"Accuracy\", \"Precision\", \"Recall\"),\n",
    "  Valeur_xgboost = c(accuracy_xgboost, precision_xgboost, recall_xgboost)\n",
    ")\n",
    "\n",
    "# Les métriques du modèle BGM amélioré\n",
    "metriques_GBM2 <- data.frame(\n",
    "  Metrique_GBM2 = c(\"Accuracy\", \"Precision\", \"Recall\"),\n",
    "  Valeur_GBM2 = c(accuracy_GBM2, precision_GBM2, recall_GBM)\n",
    ")"
   ]
  },
  {
   "cell_type": "code",
   "execution_count": 77,
   "id": "189adc67-e7d6-4793-8347-f723b08cd959",
   "metadata": {},
   "outputs": [
    {
     "data": {
      "image/png": "[encoded data removed]",
      "text/plain": [
       "plot without title"
      ]
     },
     "metadata": {
      "image/png": {
       "height": 420,
       "width": 420
      }
     },
     "output_type": "display_data"
    }
   ],
   "source": [
    "\n",
    "#png(\"graphes_GBM2_xgboost.png\", width = 2000, height = 1000, res = 200)  # Taille et résolution pour la qualité\n",
    "\n",
    "# Graphique GBM2\n",
    "plot_GBM2 <- ggplot(metriques_GBM2, aes(x = Metrique_GBM2, y = Valeur_GBM2, fill = Metrique_GBM2)) +\n",
    "  geom_bar(stat = \"identity\", width = 0.5) +\n",
    "  geom_text(aes(label = round(Valeur_GBM2, 4)), vjust = -0.3, size = 5) +\n",
    "  scale_y_continuous(limits = c(0, 1)) +\n",
    "  labs(title = \"Performances du modèle GBM amélioré\", x = \"Métriques\", y = \"Valeur\") +\n",
    "  theme_minimal() +\n",
    "  theme(legend.position = \"none\")\n",
    "\n",
    "# Graphe xgboost\n",
    "plot_xgboost <- ggplot(metriques_xgboost, aes(x = Metrique_xgboost, y = Valeur_xgboost, fill = Metrique_xgboost)) +\n",
    "  geom_bar(stat = \"identity\", width = 0.5) +\n",
    "  geom_text(aes(label = round(Valeur_xgboost, 4)), vjust = -0.3, size = 5) +\n",
    "  scale_y_continuous(limits = c(0, 1)) +\n",
    "  labs(title = \"Performances du modèle XGBoost\", x = \"Métriques\", y = \"Valeur\") +\n",
    "  theme_minimal() +\n",
    "  theme(legend.position = \"none\")\n",
    "\n",
    "# Créons une matrice 1x2 de graphiques pour afficher les métrqiues des 2 modèles\n",
    "combined_plots <- grid.arrange(plot_GBM2, plot_xgboost, nrow = 1, ncol = 2)\n",
    "\n",
    "\n",
    "#dev.off()"
   ]
  }
 ],
 "metadata": {
  "kernelspec": {
   "display_name": "R",
   "language": "R",
   "name": "ir"
  },
  "language_info": {
   "codemirror_mode": "r",
   "file_extension": ".r",
   "mimetype": "text/x-r-source",
   "name": "R",
   "pygments_lexer": "r",
   "version": "4.3.2"
  }
 },
 "nbformat": 4,
 "nbformat_minor": 5
}
